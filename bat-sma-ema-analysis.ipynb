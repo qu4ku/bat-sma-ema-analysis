{
 "cells": [
  {
   "cell_type": "code",
   "execution_count": 1,
   "metadata": {
    "ExecuteTime": {
     "end_time": "2021-12-23T01:22:09.719948Z",
     "start_time": "2021-12-23T01:22:08.492418Z"
    }
   },
   "outputs": [],
   "source": [
    "%matplotlib inline\n",
    "\n",
    "import pandas as pd\n",
    "import numpy as np\n",
    "import matplotlib.pyplot as plt\n",
    "import plotly.express as px\n",
    "\n",
    "import warnings\n",
    "warnings.filterwarnings('ignore')\n",
    "\n",
    "import plotly.graph_objects as go\n",
    "\n",
    "from tabulate import tabulate"
   ]
  },
  {
   "cell_type": "code",
   "execution_count": 2,
   "metadata": {
    "ExecuteTime": {
     "end_time": "2021-12-23T01:22:09.798703Z",
     "start_time": "2021-12-23T01:22:09.722269Z"
    }
   },
   "outputs": [
    {
     "data": {
      "text/html": [
       "<div>\n",
       "<style scoped>\n",
       "    .dataframe tbody tr th:only-of-type {\n",
       "        vertical-align: middle;\n",
       "    }\n",
       "\n",
       "    .dataframe tbody tr th {\n",
       "        vertical-align: top;\n",
       "    }\n",
       "\n",
       "    .dataframe thead th {\n",
       "        text-align: right;\n",
       "    }\n",
       "</style>\n",
       "<table border=\"1\" class=\"dataframe\">\n",
       "  <thead>\n",
       "    <tr style=\"text-align: right;\">\n",
       "      <th></th>\n",
       "      <th>Close</th>\n",
       "    </tr>\n",
       "    <tr>\n",
       "      <th>Date</th>\n",
       "      <th></th>\n",
       "    </tr>\n",
       "  </thead>\n",
       "  <tbody>\n",
       "    <tr>\n",
       "      <th>2020-12-22</th>\n",
       "      <td>0.217977</td>\n",
       "    </tr>\n",
       "    <tr>\n",
       "      <th>2020-12-23</th>\n",
       "      <td>0.192380</td>\n",
       "    </tr>\n",
       "    <tr>\n",
       "      <th>2020-12-24</th>\n",
       "      <td>0.218165</td>\n",
       "    </tr>\n",
       "    <tr>\n",
       "      <th>2020-12-25</th>\n",
       "      <td>0.214190</td>\n",
       "    </tr>\n",
       "    <tr>\n",
       "      <th>2020-12-26</th>\n",
       "      <td>0.213414</td>\n",
       "    </tr>\n",
       "  </tbody>\n",
       "</table>\n",
       "</div>"
      ],
      "text/plain": [
       "               Close\n",
       "Date                \n",
       "2020-12-22  0.217977\n",
       "2020-12-23  0.192380\n",
       "2020-12-24  0.218165\n",
       "2020-12-25  0.214190\n",
       "2020-12-26  0.213414"
      ]
     },
     "execution_count": 2,
     "metadata": {},
     "output_type": "execute_result"
    }
   ],
   "source": [
    "# yahoo dat: https://finance.yahoo.com/quote/BAT-USD/history/?guccounter=1&guce_referrer=aHR0cHM6Ly93d3cuZ29vZ2xlLmNvbS8&guce_referrer_sig=AQAAADnYT0Ox2AkJtC-32g4fK44BNgcuSAvxSXNnrD9cxRVSqxX97iqr_UVTfmMW1JZFBaMdb1wea4btFKJRlHraSJ96XnLZGu5A46wrw0CNB4Xvbh4AeT6RF7WlTxA4WG_LyaKNzIRnq_5x3JNIcZtc-AFE3Y49gKFA8Qb7nooaWHHk\n",
    "\n",
    "df = pd.read_csv('BAT-USD.csv', usecols=['Date', 'Close'], index_col=['Date'])\n",
    "df.head()"
   ]
  },
  {
   "cell_type": "code",
   "execution_count": 3,
   "metadata": {
    "ExecuteTime": {
     "end_time": "2021-12-23T01:22:09.829542Z",
     "start_time": "2021-12-23T01:22:09.814547Z"
    }
   },
   "outputs": [
    {
     "data": {
      "text/plain": [
       "(366, 1)"
      ]
     },
     "execution_count": 3,
     "metadata": {},
     "output_type": "execute_result"
    }
   ],
   "source": [
    "df.shape"
   ]
  },
  {
   "cell_type": "code",
   "execution_count": 15,
   "metadata": {
    "ExecuteTime": {
     "end_time": "2021-12-23T01:22:45.908498Z",
     "start_time": "2021-12-23T01:22:45.764174Z"
    }
   },
   "outputs": [
    {
     "data": {
      "image/svg+xml": [
       "<svg class=\"main-svg\" xmlns=\"http://www.w3.org/2000/svg\" xmlns:xlink=\"http://www.w3.org/1999/xlink\" width=\"700\" height=\"500\" style=\"\" viewBox=\"0 0 700 500\"><rect x=\"0\" y=\"0\" width=\"700\" height=\"500\" style=\"fill: rgb(255, 255, 255); fill-opacity: 1;\"/><defs id=\"defs-08d2a6\"><g class=\"clips\"><clipPath id=\"clip08d2a6xyplot\" class=\"plotclip\"><rect width=\"540\" height=\"320\"/></clipPath><clipPath class=\"axesclip\" id=\"clip08d2a6x\"><rect x=\"80\" y=\"0\" width=\"540\" height=\"500\"/></clipPath><clipPath class=\"axesclip\" id=\"clip08d2a6y\"><rect x=\"0\" y=\"100\" width=\"700\" height=\"320\"/></clipPath><clipPath class=\"axesclip\" id=\"clip08d2a6xy\"><rect x=\"80\" y=\"100\" width=\"540\" height=\"320\"/></clipPath></g><g class=\"gradients\"/><g class=\"patterns\"/></defs><g class=\"bglayer\"><rect class=\"bg\" x=\"80\" y=\"100\" width=\"540\" height=\"320\" style=\"fill: rgb(229, 236, 246); fill-opacity: 1; stroke-width: 0;\"/></g><g class=\"layer-below\"><g class=\"imagelayer\"/><g class=\"shapelayer\"/></g><g class=\"cartesianlayer\"><g class=\"subplot xy\"><g class=\"layer-subplot\"><g class=\"shapelayer\"/><g class=\"imagelayer\"/></g><g class=\"gridlayer\"><g class=\"x\"><path class=\"xgrid crisp\" transform=\"translate(94.78999999999999,0)\" d=\"M0,100v320\" style=\"stroke: rgb(255, 255, 255); stroke-opacity: 1; stroke-width: 1px;\"/><path class=\"xgrid crisp\" transform=\"translate(182.07999999999998,0)\" d=\"M0,100v320\" style=\"stroke: rgb(255, 255, 255); stroke-opacity: 1; stroke-width: 1px;\"/><path class=\"xgrid crisp\" transform=\"translate(272.33000000000004,0)\" d=\"M0,100v320\" style=\"stroke: rgb(255, 255, 255); stroke-opacity: 1; stroke-width: 1px;\"/><path class=\"xgrid crisp\" transform=\"translate(362.58,0)\" d=\"M0,100v320\" style=\"stroke: rgb(255, 255, 255); stroke-opacity: 1; stroke-width: 1px;\"/><path class=\"xgrid crisp\" transform=\"translate(454.3,0)\" d=\"M0,100v320\" style=\"stroke: rgb(255, 255, 255); stroke-opacity: 1; stroke-width: 1px;\"/><path class=\"xgrid crisp\" transform=\"translate(544.55,0)\" d=\"M0,100v320\" style=\"stroke: rgb(255, 255, 255); stroke-opacity: 1; stroke-width: 1px;\"/></g><g class=\"y\"><path class=\"ygrid crisp\" transform=\"translate(0,402.61)\" d=\"M80,0h540\" style=\"stroke: rgb(255, 255, 255); stroke-opacity: 1; stroke-width: 1px;\"/><path class=\"ygrid crisp\" transform=\"translate(0,366.01)\" d=\"M80,0h540\" style=\"stroke: rgb(255, 255, 255); stroke-opacity: 1; stroke-width: 1px;\"/><path class=\"ygrid crisp\" transform=\"translate(0,329.40999999999997)\" d=\"M80,0h540\" style=\"stroke: rgb(255, 255, 255); stroke-opacity: 1; stroke-width: 1px;\"/><path class=\"ygrid crisp\" transform=\"translate(0,292.82)\" d=\"M80,0h540\" style=\"stroke: rgb(255, 255, 255); stroke-opacity: 1; stroke-width: 1px;\"/><path class=\"ygrid crisp\" transform=\"translate(0,256.22)\" d=\"M80,0h540\" style=\"stroke: rgb(255, 255, 255); stroke-opacity: 1; stroke-width: 1px;\"/><path class=\"ygrid crisp\" transform=\"translate(0,219.62)\" d=\"M80,0h540\" style=\"stroke: rgb(255, 255, 255); stroke-opacity: 1; stroke-width: 1px;\"/><path class=\"ygrid crisp\" transform=\"translate(0,183.03)\" d=\"M80,0h540\" style=\"stroke: rgb(255, 255, 255); stroke-opacity: 1; stroke-width: 1px;\"/><path class=\"ygrid crisp\" transform=\"translate(0,146.43)\" d=\"M80,0h540\" style=\"stroke: rgb(255, 255, 255); stroke-opacity: 1; stroke-width: 1px;\"/><path class=\"ygrid crisp\" transform=\"translate(0,109.83)\" d=\"M80,0h540\" style=\"stroke: rgb(255, 255, 255); stroke-opacity: 1; stroke-width: 1px;\"/></g></g><g class=\"zerolinelayer\"/><path class=\"xlines-below\"/><path class=\"ylines-below\"/><g class=\"overlines-below\"/><g class=\"xaxislayer-below\"/><g class=\"yaxislayer-below\"/><g class=\"overaxes-below\"/><g class=\"plot\" transform=\"translate(80,100)\" clip-path=\"url(#clip08d2a6xyplot)\"><g class=\"scatterlayer mlayer\"><g class=\"trace scatter tracebe0fef\" style=\"stroke-miterlimit: 2; opacity: 1;\"><g class=\"fills\"/><g class=\"errorbars\"/><g class=\"lines\"><path class=\"js-line\" d=\"M0,299.32L1.48,304L2.96,299.28L7.4,301.02L8.88,300.61L13.32,302.67L14.79,301.67L16.27,301.87L17.75,299.59L19.23,299.34L20.71,296.77L22.19,293.37L23.67,292.22L25.15,293.27L26.63,288.81L28.11,292L29.59,297.26L31.07,296.96L32.55,293.57L34.03,294.25L35.51,293.8L36.99,290.23L38.47,289.28L39.95,287.45L41.42,289.76L42.9,288.15L44.38,294.42L45.86,281.66L47.34,278.94L48.82,280.81L50.3,284.03L51.78,284.51L53.26,283.36\" style=\"vector-effect: non-scaling-stroke; fill: none; stroke: rgb(99, 110, 250); stroke-opacity: 1; stroke-width: 2px; opacity: 1;\"/><path class=\"js-line\" d=\"M56.22,282.64L57.7,281.52L59.18,283.9L60.66,281.55L62.14,281.18L63.62,280.31L65.1,281.98L66.58,271.38L68.05,274.69L69.53,264.47L71.01,262.63L73.97,258.34L75.45,230.66L76.93,224.27L78.41,226.13L79.89,236.41L81.37,240.58L84.33,233.92L85.81,223.24L87.29,227.11L88.77,233.08L90.25,228.36L91.73,240.45L93.21,252.8L94.68,244.98L96.16,251.09L97.64,242.92L99.12,244.85L100.6,244.17L102.08,232.67L103.56,229.03L105.04,198.82L106.52,212.26L109.48,217.38L110.96,212.16L112.44,204L113.92,202.77L115.4,189.37L116.88,192.37L118.36,200.89L119.84,190.03L121.32,198.24L122.79,199.95L125.75,113.96L127.23,116.44L128.71,121.56L130.19,139.98L131.67,135L133.15,139.09L134.63,145.08L136.11,157.48L137.59,160.83L139.07,142.55L140.55,141.27L142.03,134.66L143.51,130.72L144.99,124.18L146.47,130.18L147.95,126.3L149.42,117.99L150.9,132.32L152.38,122L153.86,103.94L155.34,94.57L156.82,121.84L158.3,102.48L159.78,58.58L161.26,69.75L162.74,74.85L164.22,78.99L165.7,64.79L167.18,70.87L168.66,60.59L170.14,59.63L171.62,66.78L173.1,92.8L174.58,96.8L177.53,114.14L179.01,137.47L180.49,122.38L181.97,150.36L183.45,152.23L184.93,120.38L186.41,109.38L187.89,119.73L189.37,121.67L190.85,108.06L192.33,106.7L193.81,109.28L195.29,102.74L196.77,124.77L198.25,89.21L199.73,82.93L202.68,79.59L204.16,80.41L205.64,98.52L207.12,84.16L208.6,123.59L210.08,121.05L211.56,116.16L213.04,130.88L214.52,130.45L216,144.71L217.48,136.69L218.96,199.85L220.44,178.63L221.92,200.07L223.4,214.29L224.88,236.25L226.36,206.57L227.84,204.23L229.32,176.83L230.79,185.03L233.75,214.12L235.23,210.22L236.71,198.92L238.19,202.43L241.15,187.36L242.63,199.82L244.11,201.79L245.59,199.73L247.07,211.05L248.55,216.16L250.03,210.87L251.51,217.53L252.99,220.69L254.47,226.06L255.95,220.94L257.42,219.27L258.9,208.65L260.38,218.81L261.86,218.68L263.34,227.21L264.82,229.07L266.3,229.59L267.78,245.56L269.26,250.75L270.74,236L272.22,234.67L273.7,243.61L275.18,245.97L278.14,237.36L279.62,232.17L281.1,226.92L282.58,232.67L284.05,233.02L285.53,231.49L287.01,228.6L288.49,235.04L291.45,226.73L292.93,234.86L294.41,235.05L295.89,237.22L297.37,236.32L298.85,238.54L301.81,242.1L303.29,246.51L304.77,238.6L306.25,241.42L307.73,243.54L309.21,248.77L310.68,253.73L312.16,247.57L316.6,240.8L318.08,240.15L319.56,238.61L321.04,234.73L322.52,234.98L324,230.45L325.48,226.93L326.96,219.97L328.44,218.43L329.92,219.22L331.4,222.14L332.88,216.76L334.36,215.29L335.84,212.07L337.32,207.67L338.79,215.72L343.23,202.81L344.71,208.6L346.19,194.81L347.67,196.59L349.15,190.61L350.63,194.82L352.11,203.6L353.59,207.6L356.55,196.13L358.03,196.49L359.51,180.66L360.99,175.45L362.47,188.91L363.95,181.59L365.42,193.69L366.9,184.65L368.38,189.6L369.86,190.3L371.34,193.97L372.82,189.87L374.3,181.2L375.78,183.58L378.74,170.5L380.22,159.47L381.7,164.45L383.18,196.37L384.66,198.57L386.14,190.93L387.62,199.03L389.1,196.78L390.58,192L392.05,201.43L393.53,196.52L395.01,194.24L396.49,197.2L397.97,202.05L399.45,201.33L400.93,204.01L402.41,220.1L403.89,227.14L405.37,213.81L406.85,210.72L408.33,219.55L409.81,221.41L411.29,222.4L412.77,227.09L414.25,232.4L415.73,230.42L420.16,209.43L421.64,205.82L423.12,210.18L424.6,203.65L427.56,205.54L429.04,202.44L430.52,200.38L432,206.94L434.96,211.88L436.44,210.09L437.92,210.63L439.4,212.57L440.88,208.14L442.36,212.56L443.84,214.77L445.32,214.66L446.79,209.36L448.27,212.66L449.75,211.56L451.23,208.94L452.71,213.06L454.19,210.8L455.67,209.09L457.15,222.15L458.63,212.27L460.11,183.05L461.59,111.76L463.07,157.9L464.55,151.94L466.03,150.39L467.51,161.94L468.99,160.72L470.47,161.57L471.95,153.56L473.42,156.46L474.9,106.89L477.86,140.98L479.34,133.47L480.82,124.97L482.3,129.69L483.78,129L485.26,129.94L486.74,144.2L488.22,144.1L489.7,160.14L491.18,133.64L492.66,136.24L494.14,142.59L495.62,149.42L497.1,145L498.58,150.2L500.05,121.9L501.53,96.04L503.01,16L504.49,35.75L505.97,42.86L507.45,72.11L508.93,66.57L510.41,78.25L511.89,104.38L513.37,133.2L514.85,125.46L516.33,88.79L517.81,95.33L519.29,101.12L520.77,130.51L522.25,143.66L523.73,129.31L525.21,119.13L526.68,151.1L528.16,150.51L529.64,134.45L532.6,128.87L534.08,123.75L537.04,136.65L538.52,125.76L540,122.39\" style=\"vector-effect: non-scaling-stroke; fill: none; stroke: rgb(99, 110, 250); stroke-opacity: 1; stroke-width: 2px; opacity: 1;\"/></g><g class=\"points\"/><g class=\"text\"/></g></g></g><g class=\"overplot\"/><path class=\"xlines-above crisp\" d=\"M0,0\" style=\"fill: none;\"/><path class=\"ylines-above crisp\" d=\"M0,0\" style=\"fill: none;\"/><g class=\"overlines-above\"/><g class=\"xaxislayer-above\"><g class=\"xtick\"><text text-anchor=\"middle\" x=\"0\" y=\"433\" transform=\"translate(94.78999999999999,0)\" style=\"font-family: 'Open Sans', verdana, arial, sans-serif; font-size: 12px; fill: rgb(42, 63, 95); fill-opacity: 1; white-space: pre; opacity: 1;\">Jan 2021</text></g><g class=\"xtick\"><text text-anchor=\"middle\" x=\"0\" y=\"433\" style=\"font-family: 'Open Sans', verdana, arial, sans-serif; font-size: 12px; fill: rgb(42, 63, 95); fill-opacity: 1; white-space: pre; opacity: 1;\" transform=\"translate(182.07999999999998,0)\">Mar 2021</text></g><g class=\"xtick\"><text text-anchor=\"middle\" x=\"0\" y=\"433\" style=\"font-family: 'Open Sans', verdana, arial, sans-serif; font-size: 12px; fill: rgb(42, 63, 95); fill-opacity: 1; white-space: pre; opacity: 1;\" transform=\"translate(272.33000000000004,0)\">May 2021</text></g><g class=\"xtick\"><text text-anchor=\"middle\" x=\"0\" y=\"433\" style=\"font-family: 'Open Sans', verdana, arial, sans-serif; font-size: 12px; fill: rgb(42, 63, 95); fill-opacity: 1; white-space: pre; opacity: 1;\" transform=\"translate(362.58,0)\">Jul 2021</text></g><g class=\"xtick\"><text text-anchor=\"middle\" x=\"0\" y=\"433\" style=\"font-family: 'Open Sans', verdana, arial, sans-serif; font-size: 12px; fill: rgb(42, 63, 95); fill-opacity: 1; white-space: pre; opacity: 1;\" transform=\"translate(454.3,0)\">Sep 2021</text></g><g class=\"xtick\"><text text-anchor=\"middle\" x=\"0\" y=\"433\" style=\"font-family: 'Open Sans', verdana, arial, sans-serif; font-size: 12px; fill: rgb(42, 63, 95); fill-opacity: 1; white-space: pre; opacity: 1;\" transform=\"translate(544.55,0)\">Nov 2021</text></g></g><g class=\"yaxislayer-above\"><g class=\"ytick\"><text text-anchor=\"end\" x=\"79\" y=\"4.199999999999999\" transform=\"translate(0,402.61)\" style=\"font-family: 'Open Sans', verdana, arial, sans-serif; font-size: 12px; fill: rgb(42, 63, 95); fill-opacity: 1; white-space: pre; opacity: 1;\">0.2</text></g><g class=\"ytick\"><text text-anchor=\"end\" x=\"79\" y=\"4.199999999999999\" style=\"font-family: 'Open Sans', verdana, arial, sans-serif; font-size: 12px; fill: rgb(42, 63, 95); fill-opacity: 1; white-space: pre; opacity: 1;\" transform=\"translate(0,366.01)\">0.4</text></g><g class=\"ytick\"><text text-anchor=\"end\" x=\"79\" y=\"4.199999999999999\" style=\"font-family: 'Open Sans', verdana, arial, sans-serif; font-size: 12px; fill: rgb(42, 63, 95); fill-opacity: 1; white-space: pre; opacity: 1;\" transform=\"translate(0,329.40999999999997)\">0.6</text></g><g class=\"ytick\"><text text-anchor=\"end\" x=\"79\" y=\"4.199999999999999\" style=\"font-family: 'Open Sans', verdana, arial, sans-serif; font-size: 12px; fill: rgb(42, 63, 95); fill-opacity: 1; white-space: pre; opacity: 1;\" transform=\"translate(0,292.82)\">0.8</text></g><g class=\"ytick\"><text text-anchor=\"end\" x=\"79\" y=\"4.199999999999999\" style=\"font-family: 'Open Sans', verdana, arial, sans-serif; font-size: 12px; fill: rgb(42, 63, 95); fill-opacity: 1; white-space: pre; opacity: 1;\" transform=\"translate(0,256.22)\">1</text></g><g class=\"ytick\"><text text-anchor=\"end\" x=\"79\" y=\"4.199999999999999\" style=\"font-family: 'Open Sans', verdana, arial, sans-serif; font-size: 12px; fill: rgb(42, 63, 95); fill-opacity: 1; white-space: pre; opacity: 1;\" transform=\"translate(0,219.62)\">1.2</text></g><g class=\"ytick\"><text text-anchor=\"end\" x=\"79\" y=\"4.199999999999999\" style=\"font-family: 'Open Sans', verdana, arial, sans-serif; font-size: 12px; fill: rgb(42, 63, 95); fill-opacity: 1; white-space: pre; opacity: 1;\" transform=\"translate(0,183.03)\">1.4</text></g><g class=\"ytick\"><text text-anchor=\"end\" x=\"79\" y=\"4.199999999999999\" style=\"font-family: 'Open Sans', verdana, arial, sans-serif; font-size: 12px; fill: rgb(42, 63, 95); fill-opacity: 1; white-space: pre; opacity: 1;\" transform=\"translate(0,146.43)\">1.6</text></g><g class=\"ytick\"><text text-anchor=\"end\" x=\"79\" y=\"4.199999999999999\" style=\"font-family: 'Open Sans', verdana, arial, sans-serif; font-size: 12px; fill: rgb(42, 63, 95); fill-opacity: 1; white-space: pre; opacity: 1;\" transform=\"translate(0,109.83)\">1.8</text></g></g><g class=\"overaxes-above\"/></g></g><g class=\"polarlayer\"/><g class=\"smithlayer\"/><g class=\"ternarylayer\"/><g class=\"geolayer\"/><g class=\"funnelarealayer\"/><g class=\"pielayer\"/><g class=\"iciclelayer\"/><g class=\"treemaplayer\"/><g class=\"sunburstlayer\"/><g class=\"glimages\"/><defs id=\"topdefs-08d2a6\"><g class=\"clips\"/></defs><g class=\"layer-above\"><g class=\"imagelayer\"/><g class=\"shapelayer\"/></g><g class=\"infolayer\"><g class=\"g-gtitle\"><text class=\"gtitle\" x=\"35\" y=\"50\" text-anchor=\"start\" dy=\"0em\" style=\"font-family: 'Open Sans', verdana, arial, sans-serif; font-size: 17px; fill: rgb(42, 63, 95); opacity: 1; font-weight: normal; white-space: pre;\">BAT price (USD)</text></g><g class=\"g-xtitle\"><text class=\"xtitle\" x=\"350\" y=\"460.3\" text-anchor=\"middle\" style=\"font-family: 'Open Sans', verdana, arial, sans-serif; font-size: 14px; fill: rgb(42, 63, 95); opacity: 1; font-weight: normal; white-space: pre;\">Date</text></g><g class=\"g-ytitle\"><text class=\"ytitle\" transform=\"rotate(-90,34.575,260)\" x=\"34.575\" y=\"260\" text-anchor=\"middle\" style=\"font-family: 'Open Sans', verdana, arial, sans-serif; font-size: 14px; fill: rgb(42, 63, 95); opacity: 1; font-weight: normal; white-space: pre;\">BAT Price (USD)</text></g></g></svg>"
      ]
     },
     "metadata": {},
     "output_type": "display_data"
    }
   ],
   "source": [
    "fig = px.line(df, y='Close', title='BAT price (USD)', labels={'Close': 'BAT Price (USD)'})\n",
    "fig.show('svg')"
   ]
  },
  {
   "cell_type": "markdown",
   "metadata": {},
   "source": [
    "# SMA — Simple Moving Average "
   ]
  },
  {
   "cell_type": "code",
   "execution_count": 5,
   "metadata": {
    "ExecuteTime": {
     "end_time": "2021-12-23T01:22:10.821961Z",
     "start_time": "2021-12-23T01:22:10.814088Z"
    }
   },
   "outputs": [
    {
     "data": {
      "text/html": [
       "<div>\n",
       "<style scoped>\n",
       "    .dataframe tbody tr th:only-of-type {\n",
       "        vertical-align: middle;\n",
       "    }\n",
       "\n",
       "    .dataframe tbody tr th {\n",
       "        vertical-align: top;\n",
       "    }\n",
       "\n",
       "    .dataframe thead th {\n",
       "        text-align: right;\n",
       "    }\n",
       "</style>\n",
       "<table border=\"1\" class=\"dataframe\">\n",
       "  <thead>\n",
       "    <tr style=\"text-align: right;\">\n",
       "      <th></th>\n",
       "      <th>Close</th>\n",
       "      <th>SMA9</th>\n",
       "    </tr>\n",
       "    <tr>\n",
       "      <th>Date</th>\n",
       "      <th></th>\n",
       "      <th></th>\n",
       "    </tr>\n",
       "  </thead>\n",
       "  <tbody>\n",
       "    <tr>\n",
       "      <th>2021-12-21</th>\n",
       "      <td>1.166475</td>\n",
       "      <td>1.11593</td>\n",
       "    </tr>\n",
       "    <tr>\n",
       "      <th>2021-12-22</th>\n",
       "      <td>1.184876</td>\n",
       "      <td>1.13336</td>\n",
       "    </tr>\n",
       "  </tbody>\n",
       "</table>\n",
       "</div>"
      ],
      "text/plain": [
       "               Close     SMA9\n",
       "Date                         \n",
       "2021-12-21  1.166475  1.11593\n",
       "2021-12-22  1.184876  1.13336"
      ]
     },
     "execution_count": 5,
     "metadata": {},
     "output_type": "execute_result"
    }
   ],
   "source": [
    "window1 = 9\n",
    "small_sma = 'SMA' + str(window1)\n",
    "df[small_sma] = df['Close'].rolling(window=window1, min_periods=1).mean()\n",
    "df.tail(2)"
   ]
  },
  {
   "cell_type": "code",
   "execution_count": 6,
   "metadata": {
    "ExecuteTime": {
     "end_time": "2021-12-23T01:22:10.832081Z",
     "start_time": "2021-12-23T01:22:10.823419Z"
    }
   },
   "outputs": [
    {
     "data": {
      "text/html": [
       "<div>\n",
       "<style scoped>\n",
       "    .dataframe tbody tr th:only-of-type {\n",
       "        vertical-align: middle;\n",
       "    }\n",
       "\n",
       "    .dataframe tbody tr th {\n",
       "        vertical-align: top;\n",
       "    }\n",
       "\n",
       "    .dataframe thead th {\n",
       "        text-align: right;\n",
       "    }\n",
       "</style>\n",
       "<table border=\"1\" class=\"dataframe\">\n",
       "  <thead>\n",
       "    <tr style=\"text-align: right;\">\n",
       "      <th></th>\n",
       "      <th>Close</th>\n",
       "      <th>SMA9</th>\n",
       "      <th>SMA26</th>\n",
       "    </tr>\n",
       "    <tr>\n",
       "      <th>Date</th>\n",
       "      <th></th>\n",
       "      <th></th>\n",
       "      <th></th>\n",
       "    </tr>\n",
       "  </thead>\n",
       "  <tbody>\n",
       "    <tr>\n",
       "      <th>2021-12-21</th>\n",
       "      <td>1.166475</td>\n",
       "      <td>1.11593</td>\n",
       "      <td>1.266560</td>\n",
       "    </tr>\n",
       "    <tr>\n",
       "      <th>2021-12-22</th>\n",
       "      <td>1.184876</td>\n",
       "      <td>1.13336</td>\n",
       "      <td>1.261023</td>\n",
       "    </tr>\n",
       "  </tbody>\n",
       "</table>\n",
       "</div>"
      ],
      "text/plain": [
       "               Close     SMA9     SMA26\n",
       "Date                                   \n",
       "2021-12-21  1.166475  1.11593  1.266560\n",
       "2021-12-22  1.184876  1.13336  1.261023"
      ]
     },
     "execution_count": 6,
     "metadata": {},
     "output_type": "execute_result"
    }
   ],
   "source": [
    "window2 = 26\n",
    "big_sma = 'SMA' + str(window2)\n",
    "df[big_sma] = df['Close'].rolling(window=window2, min_periods=1).mean()\n",
    "df.tail(2)"
   ]
  },
  {
   "cell_type": "code",
   "execution_count": 16,
   "metadata": {
    "ExecuteTime": {
     "end_time": "2021-12-23T01:23:15.798631Z",
     "start_time": "2021-12-23T01:23:15.602754Z"
    }
   },
   "outputs": [
    {
     "data": {
      "image/svg+xml": [
       "<svg class=\"main-svg\" xmlns=\"http://www.w3.org/2000/svg\" xmlns:xlink=\"http://www.w3.org/1999/xlink\" width=\"700\" height=\"500\" style=\"\" viewBox=\"0 0 700 500\"><rect x=\"0\" y=\"0\" width=\"700\" height=\"500\" style=\"fill: rgb(255, 255, 255); fill-opacity: 1;\"/><defs id=\"defs-d910db\"><g class=\"clips\"><clipPath id=\"clipd910dbxyplot\" class=\"plotclip\"><rect width=\"511\" height=\"320\"/></clipPath><clipPath class=\"axesclip\" id=\"clipd910dbx\"><rect x=\"80\" y=\"0\" width=\"511\" height=\"500\"/></clipPath><clipPath class=\"axesclip\" id=\"clipd910dby\"><rect x=\"0\" y=\"100\" width=\"700\" height=\"320\"/></clipPath><clipPath class=\"axesclip\" id=\"clipd910dbxy\"><rect x=\"80\" y=\"100\" width=\"511\" height=\"320\"/></clipPath></g><g class=\"gradients\"/><g class=\"patterns\"/></defs><g class=\"bglayer\"><rect class=\"bg\" x=\"80\" y=\"100\" width=\"511\" height=\"320\" style=\"fill: rgb(229, 236, 246); fill-opacity: 1; stroke-width: 0;\"/></g><g class=\"layer-below\"><g class=\"imagelayer\"/><g class=\"shapelayer\"/></g><g class=\"cartesianlayer\"><g class=\"subplot xy\"><g class=\"layer-subplot\"><g class=\"shapelayer\"/><g class=\"imagelayer\"/></g><g class=\"gridlayer\"><g class=\"x\"><path class=\"xgrid crisp\" transform=\"translate(94,0)\" d=\"M0,100v320\" style=\"stroke: rgb(255, 255, 255); stroke-opacity: 1; stroke-width: 1px;\"/><path class=\"xgrid crisp\" transform=\"translate(176.6,0)\" d=\"M0,100v320\" style=\"stroke: rgb(255, 255, 255); stroke-opacity: 1; stroke-width: 1px;\"/><path class=\"xgrid crisp\" transform=\"translate(262,0)\" d=\"M0,100v320\" style=\"stroke: rgb(255, 255, 255); stroke-opacity: 1; stroke-width: 1px;\"/><path class=\"xgrid crisp\" transform=\"translate(347.4,0)\" d=\"M0,100v320\" style=\"stroke: rgb(255, 255, 255); stroke-opacity: 1; stroke-width: 1px;\"/><path class=\"xgrid crisp\" transform=\"translate(434.2,0)\" d=\"M0,100v320\" style=\"stroke: rgb(255, 255, 255); stroke-opacity: 1; stroke-width: 1px;\"/><path class=\"xgrid crisp\" transform=\"translate(519.6,0)\" d=\"M0,100v320\" style=\"stroke: rgb(255, 255, 255); stroke-opacity: 1; stroke-width: 1px;\"/></g><g class=\"y\"><path class=\"ygrid crisp\" transform=\"translate(0,402.61)\" d=\"M80,0h511\" style=\"stroke: rgb(255, 255, 255); stroke-opacity: 1; stroke-width: 1px;\"/><path class=\"ygrid crisp\" transform=\"translate(0,366.01)\" d=\"M80,0h511\" style=\"stroke: rgb(255, 255, 255); stroke-opacity: 1; stroke-width: 1px;\"/><path class=\"ygrid crisp\" transform=\"translate(0,329.40999999999997)\" d=\"M80,0h511\" style=\"stroke: rgb(255, 255, 255); stroke-opacity: 1; stroke-width: 1px;\"/><path class=\"ygrid crisp\" transform=\"translate(0,292.82)\" d=\"M80,0h511\" style=\"stroke: rgb(255, 255, 255); stroke-opacity: 1; stroke-width: 1px;\"/><path class=\"ygrid crisp\" transform=\"translate(0,256.22)\" d=\"M80,0h511\" style=\"stroke: rgb(255, 255, 255); stroke-opacity: 1; stroke-width: 1px;\"/><path class=\"ygrid crisp\" transform=\"translate(0,219.62)\" d=\"M80,0h511\" style=\"stroke: rgb(255, 255, 255); stroke-opacity: 1; stroke-width: 1px;\"/><path class=\"ygrid crisp\" transform=\"translate(0,183.03)\" d=\"M80,0h511\" style=\"stroke: rgb(255, 255, 255); stroke-opacity: 1; stroke-width: 1px;\"/><path class=\"ygrid crisp\" transform=\"translate(0,146.43)\" d=\"M80,0h511\" style=\"stroke: rgb(255, 255, 255); stroke-opacity: 1; stroke-width: 1px;\"/><path class=\"ygrid crisp\" transform=\"translate(0,109.83)\" d=\"M80,0h511\" style=\"stroke: rgb(255, 255, 255); stroke-opacity: 1; stroke-width: 1px;\"/></g></g><g class=\"zerolinelayer\"/><path class=\"xlines-below\"/><path class=\"ylines-below\"/><g class=\"overlines-below\"/><g class=\"xaxislayer-below\"/><g class=\"yaxislayer-below\"/><g class=\"overaxes-below\"/><g class=\"plot\" transform=\"translate(80,100)\" clip-path=\"url(#clipd910dbxyplot)\"><g class=\"scatterlayer mlayer\"><g class=\"trace scatter tracef99f23\" style=\"stroke-miterlimit: 2; opacity: 1;\"><g class=\"fills\"/><g class=\"errorbars\"/><g class=\"lines\"><path class=\"js-line\" d=\"M0,299.32L1.4,304L2.8,299.28L7,301.02L8.4,300.61L12.6,302.67L14,301.67L15.4,301.87L16.8,299.59L18.2,299.34L19.6,296.77L21,293.37L22.4,292.22L23.8,293.27L25.2,288.81L26.6,292L28,297.26L29.4,296.96L30.8,293.57L32.2,294.25L33.6,293.8L35,290.23L36.4,289.28L37.8,287.45L39.2,289.76L40.6,288.15L42,294.42L43.4,281.66L44.8,278.94L46.2,280.81L47.6,284.03L49,284.51L50.4,283.36\" style=\"vector-effect: non-scaling-stroke; fill: none; stroke: rgb(99, 110, 250); stroke-opacity: 1; stroke-width: 2px; opacity: 1;\"/><path class=\"js-line\" d=\"M53.2,282.64L54.6,281.52L56,283.9L57.4,281.55L58.8,281.18L60.2,280.31L61.6,281.98L63,271.38L64.4,274.69L65.8,264.47L67.2,262.63L70,258.34L71.4,230.66L72.8,224.27L74.2,226.13L75.6,236.41L77,240.58L79.8,233.92L81.2,223.24L84,233.08L85.4,228.36L88.2,252.8L89.6,244.98L91,251.09L92.4,242.92L93.8,244.85L95.2,244.17L96.6,232.67L98,229.03L99.4,198.82L100.8,212.26L103.6,217.38L105,212.16L106.4,204L107.8,202.77L109.2,189.37L110.6,192.37L112,200.89L113.4,190.03L114.8,198.24L116.2,199.95L119,113.96L120.4,116.44L121.8,121.56L123.2,139.98L124.6,135L126,139.09L127.4,145.08L128.8,157.48L130.2,160.83L131.6,142.55L133,141.27L134.4,134.66L135.8,130.72L137.2,124.18L138.6,130.18L140,126.3L141.4,117.99L142.8,132.32L144.2,122L145.6,103.94L147,94.57L148.4,121.84L149.8,102.48L151.2,58.58L152.6,69.75L154,74.85L155.4,78.99L156.8,64.79L158.2,70.87L159.6,60.59L161,59.63L162.4,66.78L163.8,92.8L165.2,96.8L168,114.14L169.4,137.47L170.8,122.38L172.2,150.36L173.6,152.23L175,120.38L176.4,109.38L177.8,119.73L179.2,121.67L180.6,108.06L182,106.7L183.4,109.28L184.8,102.74L186.2,124.77L187.6,89.21L189,82.93L191.8,79.59L193.2,80.41L194.6,98.52L196,84.16L197.4,123.59L198.8,121.05L200.2,116.16L201.6,130.88L203,130.45L204.4,144.71L205.8,136.69L207.2,199.85L208.6,178.63L210,200.07L211.4,214.29L212.8,236.25L214.2,206.57L215.6,204.23L217,176.83L218.4,185.03L221.2,214.12L222.6,210.22L224,198.92L225.4,202.43L228.2,187.36L229.6,199.82L231,201.79L232.4,199.73L233.8,211.05L235.2,216.16L236.6,210.87L238,217.53L239.4,220.69L240.8,226.06L242.2,220.94L243.6,219.27L245,208.65L246.4,218.81L247.8,218.68L249.2,227.21L250.6,229.07L252,229.59L253.4,245.56L254.8,250.75L256.2,236L257.6,234.67L259,243.61L260.4,245.97L263.2,237.36L264.6,232.17L266,226.92L267.4,232.67L268.8,233.02L270.2,231.49L271.6,228.6L273,235.04L275.8,226.73L277.2,234.86L278.6,235.05L280,237.22L281.4,236.32L282.8,238.54L285.6,242.1L287,246.51L288.4,238.6L289.8,241.42L291.2,243.54L292.6,248.77L294,253.73L295.4,247.57L299.6,240.8L301,240.15L302.4,238.61L303.8,234.73L305.2,234.98L306.6,230.45L308,226.93L309.4,219.97L310.8,218.43L312.2,219.22L313.6,222.14L315,216.76L316.4,215.29L317.8,212.07L319.2,207.67L320.6,215.72L324.8,202.81L326.2,208.6L327.6,194.81L329,196.59L330.4,190.61L331.8,194.82L333.2,203.6L334.6,207.6L337.4,196.13L338.8,196.49L340.2,180.66L341.6,175.45L343,188.91L344.4,181.59L345.8,193.69L347.2,184.65L348.6,189.6L350,190.3L351.4,193.97L352.8,189.87L354.2,181.2L355.6,183.58L358.4,170.5L359.8,159.47L361.2,164.45L362.6,196.37L364,198.57L365.4,190.93L366.8,199.03L368.2,196.78L369.6,192L371,201.43L373.8,194.24L375.2,197.2L376.6,202.05L378,201.33L379.4,204.01L380.8,220.1L382.2,227.14L383.6,213.81L385,210.72L386.4,219.55L389.2,222.4L390.6,227.09L392,232.4L393.4,230.42L397.6,209.43L399,205.82L400.4,210.18L401.8,203.65L404.6,205.54L406,202.44L407.4,200.38L408.8,206.94L411.6,211.88L413,210.09L414.4,210.63L415.8,212.57L417.2,208.14L418.6,212.56L420,214.77L421.4,214.66L422.8,209.36L424.2,212.66L425.6,211.56L427,208.94L428.4,213.06L429.8,210.8L431.2,209.09L432.6,222.15L434,212.27L435.4,183.05L436.8,111.76L438.2,157.9L439.6,151.94L441,150.39L442.4,161.94L443.8,160.72L445.2,161.57L446.6,153.56L448,156.46L449.4,106.89L452.2,140.98L453.6,133.47L455,124.97L456.4,129.69L457.8,129L459.2,129.94L460.6,144.2L462,144.1L463.4,160.14L464.8,133.64L466.2,136.24L467.6,142.59L469,149.42L470.4,145L471.8,150.2L473.2,121.9L474.6,96.04L476,16L477.4,35.75L478.8,42.86L480.2,72.11L481.6,66.57L483,78.25L484.4,104.38L485.8,133.2L487.2,125.46L488.6,88.79L490,95.33L491.4,101.12L492.8,130.51L494.2,143.66L495.6,129.31L497,119.13L498.4,151.1L499.8,150.51L501.2,134.45L504,128.87L505.4,123.75L508.2,136.65L509.6,125.76L511,122.39\" style=\"vector-effect: non-scaling-stroke; fill: none; stroke: rgb(99, 110, 250); stroke-opacity: 1; stroke-width: 2px; opacity: 1;\"/></g><g class=\"points\"/><g class=\"text\"/></g><g class=\"trace scatter tracea8ba12\" style=\"stroke-miterlimit: 2; opacity: 1;\"><g class=\"fills\"/><g class=\"errorbars\"/><g class=\"lines\"><path class=\"js-line\" d=\"M0,299.32L1.4,301.66L2.8,300.87L8.4,300.63L9.8,300.74L16.8,301.27L18.2,301.18L21,299.9L22.4,298.87L28,294.74L29.4,294.44L32.2,293.52L33.6,293.57L39.2,292.51L40.6,291.49L42,291.21L43.4,289.89L46.2,286.74L47.6,286.06L53.2,283.8L54.6,282.18L58.8,282.83L60.2,282.37L61.6,282.05L63,280.56L64.4,279.9L65.8,277.89L70,270.54L71.4,264.92L75.6,248.6L77,244.81L81.2,234.57L82.6,231.1L85.4,231.83L86.8,233.42L88.2,235.24L89.6,235.73L93.8,240.63L95.2,242.52L98,242.55L99.4,237.93L103.6,226.28L105,222.87L110.6,204.84L112,205.07L116.2,198.86L117.6,192.06L121.8,164.93L123.2,159.11L127.4,140.22L128.8,135.5L130.2,136.6L131.6,139.78L134.4,143.99L135.8,142.96L140,138.69L141.4,134.3L145.6,124.7L147,120.25L148.4,119.26L149.8,116.85L152.6,102.61L154,97.81L158.2,81.86L159.6,78.08L162.4,67.2L163.8,71.01L168,81.4L169.4,89.47L170.8,95.2L172.2,105.17L175,121.42L176.4,123.26L179.2,127.53L180.6,126.85L190.4,102.99L191.8,98.32L193.2,95.24L194.6,94.33L196,91.54L197.4,93.86L198.8,93.45L200.2,96.44L205.8,120.69L207.2,131.95L215.6,191.25L217,194.82L218.4,200.19L219.8,200.47L221.2,204.42L222.6,205.54L224,203.84L225.4,200.08L228.2,196.72L229.6,199.27L231,201.14L232.4,200.84L233.8,200.5L235.2,201.16L238,204.17L239.4,207.22L242.2,213.87L243.6,215.81L249.2,219.76L250.6,221.04L252,222.03L253.4,224.2L257.6,232.26L259,235.01L261.8,239.51L263.2,240.43L264.6,240.71L266,238.64L267.4,236.63L268.8,236.3L270.2,235.95L271.6,234.28L275.8,230.81L277.2,231.11L280,232.52L281.4,232.89L285.6,235.84L287,237.6L295.4,244.81L296.8,245.3L301,244.95L302.4,244.63L305.2,242.12L306.6,239.54L320.6,216.36L322,215.33L326.2,210.77L327.6,208.33L331.8,202.44L333.2,201.09L336,200.03L337.4,199.29L340.2,196.37L341.6,194.02L343,193.83L344.4,192.36L345.8,191.26L347.2,188.71L350,186.81L351.4,186.54L354.2,188.2L355.6,187.61L357,187.24L358.4,184.66L361.2,179.07L362.6,179.74L365.4,180.37L366.8,182.35L369.6,185.34L371,188.78L373.8,196.21L375.2,196.3L378,197.84L379.4,198.4L383.6,206.27L385,207.85L392,221.62L393.4,222.77L397.6,222.34L399,220.81L401.8,217.48L403.2,214.96L407.4,206.3L408.8,205.42L413,206.16L414.4,206.94L418.6,209.26L420,210.86L421.4,211.72L422.8,211.63L434,212.21L435.4,209.29L438.2,192.11L439.6,185.78L446.6,154.76L448,151.8L449.4,151.26L450.8,147.67L453.6,144.57L455,140.47L459.2,130.78L460.6,129.41L463.4,137.39L464.8,136.57L466.2,136.88L467.6,138.84L471.8,145.06L473.2,142.58L474.6,137.24L476,121.23L481.6,82.94L483,75.52L484.4,70.43L485.8,71.68L487.2,74.95L488.6,83.04L495.6,116.86L497,118.5L499.8,123.27L501.2,128.35L504,135.54L505.4,134.79L506.8,133.46L508.2,134.27L509.6,135.01L511,131.82\" style=\"vector-effect: non-scaling-stroke; fill: none; stroke: rgb(239, 85, 59); stroke-opacity: 1; stroke-width: 2px; opacity: 1;\"/></g><g class=\"points\"/><g class=\"text\"/></g><g class=\"trace scatter trace43b033\" style=\"stroke-miterlimit: 2; opacity: 1;\"><g class=\"fills\"/><g class=\"errorbars\"/><g class=\"lines\"><path class=\"js-line\" d=\"M0,299.32L1.4,301.66L2.8,300.87L8.4,300.63L9.8,300.74L16.8,301.08L18.2,300.96L25.2,298.83L26.6,298.49L35,297.53L36.4,297.15L40.6,295.69L42,295.47L56,288.65L57.4,288.17L63,286.12L64.4,285.21L70,279.88L71.4,277.5L77,268.41L78.4,266.14L86.8,253.85L88.2,253.81L98,242.91L99.4,240.12L103.6,234.05L105,232.22L107.8,229.06L109.2,227.72L116.2,220.29L117.6,217.5L128.8,184.73L130.2,181.5L135.8,167.82L137.2,164.43L149.8,134.75L151.2,129.38L154,121.45L155.4,120.1L159.6,113.11L161,110.21L165.2,103.09L166.6,100.98L169.4,99.75L170.8,99.27L173.6,101.11L175,100.73L177.8,100.15L179.2,99.74L182,99.31L183.4,99.87L184.8,99.14L186.2,100L189,101.68L190.4,101.94L193.2,102.56L194.6,103.63L196,104.53L197.4,106.99L200.2,109.98L201.6,111.29L204.4,113.4L205.8,113.37L207.2,116.35L208.6,117.44L210,119.28L211.4,122.89L214.2,131.11L215.6,134.28L219.8,143.52L221.2,147.8L224,155.31L225.4,159.91L236.6,192.02L238,195.35L242.2,205.19L243.6,205.94L246.4,207.82L247.8,207.98L249.2,207.64L250.6,208.5L252,209.48L253.4,212.12L256.2,215.94L257.6,216.73L261.8,221.28L263.2,222.98L266,225.75L267.4,226.94L270.2,229L271.6,229.48L274.4,230.92L275.8,231.15L280,232.72L281.4,233.78L288.4,236.99L289.8,236.83L292.6,237.05L294,237.78L308,238.96L309.4,238.38L316.4,235.58L317.8,234.65L326.2,227.13L327.6,225.26L334.6,215.82L336,214.28L347.2,200.95L348.6,199.81L358.4,191.63L359.8,189.79L362.6,187.85L364,187.99L366.8,188.1L368.2,188.17L372.4,187.32L373.8,187.25L375.2,187.28L376.6,188.1L387.8,196.56L389.2,197.81L397.6,209.36L399,209.72L406,211.6L407.4,211.56L415.8,214.13L417.2,213.67L420,213.15L421.4,213.3L428.4,210.72L429.8,209.96L431.2,209.41L432.6,209.69L434,209.8L435.4,208.92L438.2,203.38L439.6,201.36L443.8,196.15L445.2,194.41L448,190.1L449.4,186.13L460.6,161.61L462,159.02L464.8,154.08L466.2,151.22L471.8,142.01L473.2,142.4L474.6,140.02L476,134.79L481.6,118.74L483,115.85L484.4,113.84L485.8,114.86L487.2,114.85L488.6,112.84L491.4,110.46L492.8,110.49L495.6,111.03L497,110.07L499.8,109.96L501.2,110L504,109.32L505.4,108.33L509.6,107.44L511,108.46\" style=\"vector-effect: non-scaling-stroke; fill: none; stroke: rgb(0, 204, 150); stroke-opacity: 1; stroke-width: 2px; opacity: 1;\"/></g><g class=\"points\"/><g class=\"text\"/></g></g></g><g class=\"overplot\"/><path class=\"xlines-above crisp\" d=\"M0,0\" style=\"fill: none;\"/><path class=\"ylines-above crisp\" d=\"M0,0\" style=\"fill: none;\"/><g class=\"overlines-above\"/><g class=\"xaxislayer-above\"><g class=\"xtick\"><text text-anchor=\"middle\" x=\"0\" y=\"433\" transform=\"translate(94,0)\" style=\"font-family: 'Open Sans', verdana, arial, sans-serif; font-size: 12px; fill: rgb(42, 63, 95); fill-opacity: 1; white-space: pre; opacity: 1;\">Jan 2021</text></g><g class=\"xtick\"><text text-anchor=\"middle\" x=\"0\" y=\"433\" style=\"font-family: 'Open Sans', verdana, arial, sans-serif; font-size: 12px; fill: rgb(42, 63, 95); fill-opacity: 1; white-space: pre; opacity: 1;\" transform=\"translate(176.6,0)\">Mar 2021</text></g><g class=\"xtick\"><text text-anchor=\"middle\" x=\"0\" y=\"433\" style=\"font-family: 'Open Sans', verdana, arial, sans-serif; font-size: 12px; fill: rgb(42, 63, 95); fill-opacity: 1; white-space: pre; opacity: 1;\" transform=\"translate(262,0)\">May 2021</text></g><g class=\"xtick\"><text text-anchor=\"middle\" x=\"0\" y=\"433\" style=\"font-family: 'Open Sans', verdana, arial, sans-serif; font-size: 12px; fill: rgb(42, 63, 95); fill-opacity: 1; white-space: pre; opacity: 1;\" transform=\"translate(347.4,0)\">Jul 2021</text></g><g class=\"xtick\"><text text-anchor=\"middle\" x=\"0\" y=\"433\" style=\"font-family: 'Open Sans', verdana, arial, sans-serif; font-size: 12px; fill: rgb(42, 63, 95); fill-opacity: 1; white-space: pre; opacity: 1;\" transform=\"translate(434.2,0)\">Sep 2021</text></g><g class=\"xtick\"><text text-anchor=\"middle\" x=\"0\" y=\"433\" style=\"font-family: 'Open Sans', verdana, arial, sans-serif; font-size: 12px; fill: rgb(42, 63, 95); fill-opacity: 1; white-space: pre; opacity: 1;\" transform=\"translate(519.6,0)\">Nov 2021</text></g></g><g class=\"yaxislayer-above\"><g class=\"ytick\"><text text-anchor=\"end\" x=\"79\" y=\"4.199999999999999\" transform=\"translate(0,402.61)\" style=\"font-family: 'Open Sans', verdana, arial, sans-serif; font-size: 12px; fill: rgb(42, 63, 95); fill-opacity: 1; white-space: pre; opacity: 1;\">0.2</text></g><g class=\"ytick\"><text text-anchor=\"end\" x=\"79\" y=\"4.199999999999999\" style=\"font-family: 'Open Sans', verdana, arial, sans-serif; font-size: 12px; fill: rgb(42, 63, 95); fill-opacity: 1; white-space: pre; opacity: 1;\" transform=\"translate(0,366.01)\">0.4</text></g><g class=\"ytick\"><text text-anchor=\"end\" x=\"79\" y=\"4.199999999999999\" style=\"font-family: 'Open Sans', verdana, arial, sans-serif; font-size: 12px; fill: rgb(42, 63, 95); fill-opacity: 1; white-space: pre; opacity: 1;\" transform=\"translate(0,329.40999999999997)\">0.6</text></g><g class=\"ytick\"><text text-anchor=\"end\" x=\"79\" y=\"4.199999999999999\" style=\"font-family: 'Open Sans', verdana, arial, sans-serif; font-size: 12px; fill: rgb(42, 63, 95); fill-opacity: 1; white-space: pre; opacity: 1;\" transform=\"translate(0,292.82)\">0.8</text></g><g class=\"ytick\"><text text-anchor=\"end\" x=\"79\" y=\"4.199999999999999\" style=\"font-family: 'Open Sans', verdana, arial, sans-serif; font-size: 12px; fill: rgb(42, 63, 95); fill-opacity: 1; white-space: pre; opacity: 1;\" transform=\"translate(0,256.22)\">1</text></g><g class=\"ytick\"><text text-anchor=\"end\" x=\"79\" y=\"4.199999999999999\" style=\"font-family: 'Open Sans', verdana, arial, sans-serif; font-size: 12px; fill: rgb(42, 63, 95); fill-opacity: 1; white-space: pre; opacity: 1;\" transform=\"translate(0,219.62)\">1.2</text></g><g class=\"ytick\"><text text-anchor=\"end\" x=\"79\" y=\"4.199999999999999\" style=\"font-family: 'Open Sans', verdana, arial, sans-serif; font-size: 12px; fill: rgb(42, 63, 95); fill-opacity: 1; white-space: pre; opacity: 1;\" transform=\"translate(0,183.03)\">1.4</text></g><g class=\"ytick\"><text text-anchor=\"end\" x=\"79\" y=\"4.199999999999999\" style=\"font-family: 'Open Sans', verdana, arial, sans-serif; font-size: 12px; fill: rgb(42, 63, 95); fill-opacity: 1; white-space: pre; opacity: 1;\" transform=\"translate(0,146.43)\">1.6</text></g><g class=\"ytick\"><text text-anchor=\"end\" x=\"79\" y=\"4.199999999999999\" style=\"font-family: 'Open Sans', verdana, arial, sans-serif; font-size: 12px; fill: rgb(42, 63, 95); fill-opacity: 1; white-space: pre; opacity: 1;\" transform=\"translate(0,109.83)\">1.8</text></g></g><g class=\"overaxes-above\"/></g></g><g class=\"polarlayer\"/><g class=\"smithlayer\"/><g class=\"ternarylayer\"/><g class=\"geolayer\"/><g class=\"funnelarealayer\"/><g class=\"pielayer\"/><g class=\"iciclelayer\"/><g class=\"treemaplayer\"/><g class=\"sunburstlayer\"/><g class=\"glimages\"/><defs id=\"topdefs-d910db\"><g class=\"clips\"/><clipPath id=\"legendd910db\"><rect width=\"87\" height=\"48\" x=\"0\" y=\"0\"/></clipPath></defs><g class=\"layer-above\"><g class=\"imagelayer\"/><g class=\"shapelayer\"/></g><g class=\"infolayer\"><g class=\"legend\" pointer-events=\"all\" transform=\"translate(601.22,100)\"><rect class=\"bg\" shape-rendering=\"crispEdges\" width=\"87\" height=\"48\" x=\"0\" y=\"0\" style=\"stroke: rgb(68, 68, 68); stroke-opacity: 1; fill: rgb(255, 255, 255); fill-opacity: 1; stroke-width: 0px;\"/><g class=\"scrollbox\" transform=\"\" clip-path=\"url(#legendd910db)\"><g class=\"groups\"><g class=\"traces\" transform=\"translate(0,14.5)\" style=\"opacity: 1;\"><text class=\"legendtext\" text-anchor=\"start\" x=\"40\" y=\"4.680000000000001\" style=\"font-family: 'Open Sans', verdana, arial, sans-serif; font-size: 12px; fill: rgb(42, 63, 95); fill-opacity: 1; white-space: pre;\">SMA9</text><g class=\"layers\" style=\"opacity: 1;\"><g class=\"legendfill\"/><g class=\"legendlines\"><path class=\"js-line\" d=\"M5,0h30\" style=\"fill: none; stroke: rgb(239, 85, 59); stroke-opacity: 1; stroke-width: 2px;\"/></g><g class=\"legendsymbols\"><g class=\"legendpoints\"/></g></g><rect class=\"legendtoggle\" x=\"0\" y=\"-9.5\" width=\"81.78125\" height=\"19\" style=\"fill: rgb(0, 0, 0); fill-opacity: 0;\"/></g><g class=\"traces\" transform=\"translate(0,33.5)\" style=\"opacity: 1;\"><text class=\"legendtext\" text-anchor=\"start\" x=\"40\" y=\"4.680000000000001\" style=\"font-family: 'Open Sans', verdana, arial, sans-serif; font-size: 12px; fill: rgb(42, 63, 95); fill-opacity: 1; white-space: pre;\">SMA26</text><g class=\"layers\" style=\"opacity: 1;\"><g class=\"legendfill\"/><g class=\"legendlines\"><path class=\"js-line\" d=\"M5,0h30\" style=\"fill: none; stroke: rgb(0, 204, 150); stroke-opacity: 1; stroke-width: 2px;\"/></g><g class=\"legendsymbols\"><g class=\"legendpoints\"/></g></g><rect class=\"legendtoggle\" x=\"0\" y=\"-9.5\" width=\"81.78125\" height=\"19\" style=\"fill: rgb(0, 0, 0); fill-opacity: 0;\"/></g></g></g><rect class=\"scrollbar\" rx=\"20\" ry=\"3\" width=\"0\" height=\"0\" x=\"0\" y=\"0\" style=\"fill: rgb(128, 139, 164); fill-opacity: 1;\"/></g><g class=\"g-gtitle\"><text class=\"gtitle\" x=\"35\" y=\"50\" text-anchor=\"start\" dy=\"0em\" style=\"font-family: 'Open Sans', verdana, arial, sans-serif; font-size: 17px; fill: rgb(42, 63, 95); opacity: 1; font-weight: normal; white-space: pre;\">BAT price (USD)</text></g><g class=\"g-xtitle\"><text class=\"xtitle\" x=\"335.5\" y=\"460.3\" text-anchor=\"middle\" style=\"font-family: 'Open Sans', verdana, arial, sans-serif; font-size: 14px; fill: rgb(42, 63, 95); opacity: 1; font-weight: normal; white-space: pre;\">Date</text></g><g class=\"g-ytitle\"><text class=\"ytitle\" transform=\"rotate(-90,34.575,260)\" x=\"34.575\" y=\"260\" text-anchor=\"middle\" style=\"font-family: 'Open Sans', verdana, arial, sans-serif; font-size: 14px; fill: rgb(42, 63, 95); opacity: 1; font-weight: normal; white-space: pre;\">BAT Price (USD)</text></g></g></svg>"
      ]
     },
     "metadata": {},
     "output_type": "display_data"
    }
   ],
   "source": [
    "fig = px.line(df, y='Close', title='BAT price (USD)', labels={'Close': 'BAT Price (USD)'})\n",
    "fig.add_scatter(x=df.index, y=df[small_sma], mode='lines', name=small_sma)\n",
    "fig.add_scatter(x=df.index, y=df[big_sma], mode='lines', name=big_sma)\n",
    "fig.show('svg')"
   ]
  },
  {
   "cell_type": "code",
   "execution_count": 8,
   "metadata": {
    "ExecuteTime": {
     "end_time": "2021-12-23T01:22:10.878222Z",
     "start_time": "2021-12-23T01:22:10.862911Z"
    }
   },
   "outputs": [
    {
     "data": {
      "text/html": [
       "<div>\n",
       "<style scoped>\n",
       "    .dataframe tbody tr th:only-of-type {\n",
       "        vertical-align: middle;\n",
       "    }\n",
       "\n",
       "    .dataframe tbody tr th {\n",
       "        vertical-align: top;\n",
       "    }\n",
       "\n",
       "    .dataframe thead th {\n",
       "        text-align: right;\n",
       "    }\n",
       "</style>\n",
       "<table border=\"1\" class=\"dataframe\">\n",
       "  <thead>\n",
       "    <tr style=\"text-align: right;\">\n",
       "      <th></th>\n",
       "      <th>Close</th>\n",
       "      <th>SMA9</th>\n",
       "      <th>SMA26</th>\n",
       "      <th>SMA_Signal</th>\n",
       "      <th>SMA_Position</th>\n",
       "    </tr>\n",
       "    <tr>\n",
       "      <th>Date</th>\n",
       "      <th></th>\n",
       "      <th></th>\n",
       "      <th></th>\n",
       "      <th></th>\n",
       "      <th></th>\n",
       "    </tr>\n",
       "  </thead>\n",
       "  <tbody>\n",
       "    <tr>\n",
       "      <th>2021-12-18</th>\n",
       "      <td>1.177470</td>\n",
       "      <td>1.117136</td>\n",
       "      <td>1.261721</td>\n",
       "      <td>0.0</td>\n",
       "      <td>0.0</td>\n",
       "    </tr>\n",
       "    <tr>\n",
       "      <th>2021-12-19</th>\n",
       "      <td>1.134094</td>\n",
       "      <td>1.124407</td>\n",
       "      <td>1.264521</td>\n",
       "      <td>0.0</td>\n",
       "      <td>0.0</td>\n",
       "    </tr>\n",
       "    <tr>\n",
       "      <th>2021-12-20</th>\n",
       "      <td>1.106973</td>\n",
       "      <td>1.119951</td>\n",
       "      <td>1.267371</td>\n",
       "      <td>0.0</td>\n",
       "      <td>0.0</td>\n",
       "    </tr>\n",
       "    <tr>\n",
       "      <th>2021-12-21</th>\n",
       "      <td>1.166475</td>\n",
       "      <td>1.115930</td>\n",
       "      <td>1.266560</td>\n",
       "      <td>0.0</td>\n",
       "      <td>0.0</td>\n",
       "    </tr>\n",
       "    <tr>\n",
       "      <th>2021-12-22</th>\n",
       "      <td>1.184876</td>\n",
       "      <td>1.133360</td>\n",
       "      <td>1.261023</td>\n",
       "      <td>0.0</td>\n",
       "      <td>0.0</td>\n",
       "    </tr>\n",
       "  </tbody>\n",
       "</table>\n",
       "</div>"
      ],
      "text/plain": [
       "               Close      SMA9     SMA26  SMA_Signal  SMA_Position\n",
       "Date                                                              \n",
       "2021-12-18  1.177470  1.117136  1.261721         0.0           0.0\n",
       "2021-12-19  1.134094  1.124407  1.264521         0.0           0.0\n",
       "2021-12-20  1.106973  1.119951  1.267371         0.0           0.0\n",
       "2021-12-21  1.166475  1.115930  1.266560         0.0           0.0\n",
       "2021-12-22  1.184876  1.133360  1.261023         0.0           0.0"
      ]
     },
     "execution_count": 8,
     "metadata": {},
     "output_type": "execute_result"
    }
   ],
   "source": [
    "df['SMA_Signal'] = 0.0\n",
    "df['SMA_Signal'] = np.where(df[small_sma] > df[big_sma], 1.0, 0.0)\n",
    "\n",
    "# day-to-day difference of the 'signal'\n",
    "df['SMA_Position'] = df['SMA_Signal'].diff()\n",
    "df.tail()"
   ]
  },
  {
   "cell_type": "markdown",
   "metadata": {},
   "source": [
    "Position: 1 = buy, -1 = sell"
   ]
  },
  {
   "cell_type": "code",
   "execution_count": 9,
   "metadata": {
    "ExecuteTime": {
     "end_time": "2021-12-23T01:22:15.820834Z",
     "start_time": "2021-12-23T01:22:10.881015Z"
    }
   },
   "outputs": [
    {
     "data": {
      "image/svg+xml": [
       "<svg class=\"main-svg\" xmlns=\"http://www.w3.org/2000/svg\" xmlns:xlink=\"http://www.w3.org/1999/xlink\" width=\"700\" height=\"500\" style=\"\" viewBox=\"0 0 700 500\"><rect x=\"0\" y=\"0\" width=\"700\" height=\"500\" style=\"fill: rgb(255, 255, 255); fill-opacity: 1;\"/><defs id=\"defs-dc3828\"><g class=\"clips\"><clipPath id=\"clipdc3828xyplot\" class=\"plotclip\"><rect width=\"511\" height=\"320\"/></clipPath><clipPath class=\"axesclip\" id=\"clipdc3828x\"><rect x=\"80\" y=\"0\" width=\"511\" height=\"500\"/></clipPath><clipPath class=\"axesclip\" id=\"clipdc3828y\"><rect x=\"0\" y=\"100\" width=\"700\" height=\"320\"/></clipPath><clipPath class=\"axesclip\" id=\"clipdc3828xy\"><rect x=\"80\" y=\"100\" width=\"511\" height=\"320\"/></clipPath></g><g class=\"gradients\"/><g class=\"patterns\"/></defs><g class=\"bglayer\"><rect class=\"bg\" x=\"80\" y=\"100\" width=\"511\" height=\"320\" style=\"fill: rgb(229, 236, 246); fill-opacity: 1; stroke-width: 0;\"/></g><g class=\"layer-below\"><g class=\"imagelayer\"/><g class=\"shapelayer\"/></g><g class=\"cartesianlayer\"><g class=\"subplot xy\"><g class=\"layer-subplot\"><g class=\"shapelayer\"/><g class=\"imagelayer\"/></g><g class=\"gridlayer\"><g class=\"x\"><path class=\"xgrid crisp\" transform=\"translate(111.8,0)\" d=\"M0,100v320\" style=\"stroke: rgb(255, 255, 255); stroke-opacity: 1; stroke-width: 1px;\"/><path class=\"xgrid crisp\" transform=\"translate(188.76,0)\" d=\"M0,100v320\" style=\"stroke: rgb(255, 255, 255); stroke-opacity: 1; stroke-width: 1px;\"/><path class=\"xgrid crisp\" transform=\"translate(268.32,0)\" d=\"M0,100v320\" style=\"stroke: rgb(255, 255, 255); stroke-opacity: 1; stroke-width: 1px;\"/><path class=\"xgrid crisp\" transform=\"translate(347.89,0)\" d=\"M0,100v320\" style=\"stroke: rgb(255, 255, 255); stroke-opacity: 1; stroke-width: 1px;\"/><path class=\"xgrid crisp\" transform=\"translate(428.76,0)\" d=\"M0,100v320\" style=\"stroke: rgb(255, 255, 255); stroke-opacity: 1; stroke-width: 1px;\"/><path class=\"xgrid crisp\" transform=\"translate(508.33,0)\" d=\"M0,100v320\" style=\"stroke: rgb(255, 255, 255); stroke-opacity: 1; stroke-width: 1px;\"/><path class=\"xgrid crisp\" transform=\"translate(587.9,0)\" d=\"M0,100v320\" style=\"stroke: rgb(255, 255, 255); stroke-opacity: 1; stroke-width: 1px;\"/></g><g class=\"y\"><path class=\"ygrid crisp\" transform=\"translate(0,399.02)\" d=\"M80,0h511\" style=\"stroke: rgb(255, 255, 255); stroke-opacity: 1; stroke-width: 1px;\"/><path class=\"ygrid crisp\" transform=\"translate(0,362.88)\" d=\"M80,0h511\" style=\"stroke: rgb(255, 255, 255); stroke-opacity: 1; stroke-width: 1px;\"/><path class=\"ygrid crisp\" transform=\"translate(0,326.74)\" d=\"M80,0h511\" style=\"stroke: rgb(255, 255, 255); stroke-opacity: 1; stroke-width: 1px;\"/><path class=\"ygrid crisp\" transform=\"translate(0,290.61)\" d=\"M80,0h511\" style=\"stroke: rgb(255, 255, 255); stroke-opacity: 1; stroke-width: 1px;\"/><path class=\"ygrid crisp\" transform=\"translate(0,254.47)\" d=\"M80,0h511\" style=\"stroke: rgb(255, 255, 255); stroke-opacity: 1; stroke-width: 1px;\"/><path class=\"ygrid crisp\" transform=\"translate(0,218.32999999999998)\" d=\"M80,0h511\" style=\"stroke: rgb(255, 255, 255); stroke-opacity: 1; stroke-width: 1px;\"/><path class=\"ygrid crisp\" transform=\"translate(0,182.19)\" d=\"M80,0h511\" style=\"stroke: rgb(255, 255, 255); stroke-opacity: 1; stroke-width: 1px;\"/><path class=\"ygrid crisp\" transform=\"translate(0,146.05)\" d=\"M80,0h511\" style=\"stroke: rgb(255, 255, 255); stroke-opacity: 1; stroke-width: 1px;\"/><path class=\"ygrid crisp\" transform=\"translate(0,109.91)\" d=\"M80,0h511\" style=\"stroke: rgb(255, 255, 255); stroke-opacity: 1; stroke-width: 1px;\"/></g></g><g class=\"zerolinelayer\"/><path class=\"xlines-below\"/><path class=\"ylines-below\"/><g class=\"overlines-below\"/><g class=\"xaxislayer-below\"/><g class=\"yaxislayer-below\"/><g class=\"overaxes-below\"/><g class=\"plot\" transform=\"translate(80,100)\" clip-path=\"url(#clipdc3828xyplot)\"><g class=\"scatterlayer mlayer\"><g class=\"trace scatter trace7c2a16\" style=\"stroke-miterlimit: 2; opacity: 1;\"><g class=\"fills\"/><g class=\"errorbars\"/><g class=\"lines\"><path class=\"js-line\" d=\"M18.76,295.77L20.06,300.4L21.37,295.74L25.28,297.46L26.58,297.05L30.5,299.08L31.8,298.1L33.1,298.3L34.41,296.05L35.71,295.79L37.02,293.26L38.32,289.9L39.63,288.76L40.93,289.8L42.23,285.4L43.54,288.55L44.84,293.74L46.15,293.44L47.45,290.1L48.76,290.77L50.06,290.32L51.37,286.8L52.67,285.86L53.97,284.05L55.28,286.34L56.58,284.75L57.89,290.94L59.19,278.34L60.5,275.66L61.8,277.5L63.1,280.67L64.41,281.15L65.71,280.02\" style=\"vector-effect: non-scaling-stroke; fill: none; stroke: rgb(99, 110, 250); stroke-opacity: 1; stroke-width: 2px; opacity: 1;\"/><path class=\"js-line\" d=\"M68.32,279.3L69.63,278.2L70.93,280.55L72.24,278.23L73.54,277.87L74.84,277L76.15,278.65L77.45,268.19L78.76,271.45L80.06,261.37L81.37,259.55L83.97,255.31L85.28,227.98L86.58,221.66L87.89,223.5L89.19,233.66L90.5,237.77L93.11,231.2L94.41,220.64L97.02,230.37L98.32,225.71L100.93,249.84L102.24,242.12L103.54,248.15L104.84,240.08L106.15,241.99L107.45,241.32L108.76,229.96L110.06,226.37L111.37,196.53L112.67,209.81L115.28,214.86L116.58,209.71L117.89,201.64L119.19,200.43L120.5,187.2L121.8,190.17L123.11,198.58L124.41,187.85L125.71,195.96L127.02,197.65L129.63,112.73L130.93,115.18L132.24,120.24L133.54,138.43L134.85,133.51L136.15,137.55L137.45,143.47L138.76,155.71L140.06,159.02L141.37,140.97L142.67,139.7L143.98,133.17L145.28,129.29L146.58,122.83L147.89,128.75L149.19,124.92L150.5,116.71L151.8,130.86L153.11,120.68L154.41,102.84L155.72,93.58L157.02,120.51L158.32,101.4L159.63,58.05L162.24,74.11L163.54,78.2L164.85,64.18L166.15,70.18L167.45,60.03L168.76,59.09L170.06,66.14L171.37,91.84L172.67,95.79L173.98,105.05L175.28,112.92L176.59,135.95L177.89,121.05L179.19,148.68L180.5,150.52L181.8,119.07L183.11,108.21L184.41,118.43L185.72,120.35L187.02,106.91L188.32,105.57L189.63,108.11L190.93,101.65L192.24,123.41L193.54,88.29L194.85,82.09L197.46,78.79L198.76,79.61L200.06,97.49L201.37,83.31L202.67,122.25L203.98,119.74L205.28,114.9L206.59,129.45L207.89,129.02L209.19,143.1L210.5,135.18L211.8,197.55L213.11,176.59L214.41,197.77L217.02,233.5L218.33,204.18L219.63,201.88L220.93,174.82L222.24,182.91L223.54,200.03L224.85,211.64L226.15,207.79L227.46,196.63L228.76,200.1L231.37,185.22L232.67,197.52L233.98,199.47L235.28,197.43L237.89,213.66L239.2,208.43L241.8,218.14L243.11,223.43L244.41,218.38L245.72,216.72L247.02,206.25L248.33,216.28L249.63,216.15L250.93,224.57L252.24,226.41L253.54,226.91L254.85,242.69L256.15,247.81L257.46,233.25L258.76,231.93L260.07,240.76L261.37,243.1L265.28,229.46L266.59,224.29L267.89,229.96L269.2,230.3L270.5,228.8L271.8,225.94L273.11,232.3L274.41,227.99L275.72,224.09L277.02,232.13L278.33,232.31L279.63,234.45L280.94,233.57L282.24,235.75L284.85,239.27L286.15,243.62L287.46,235.82L288.76,238.61L290.07,240.69L291.37,245.86L292.67,250.75L293.98,244.67L297.89,237.99L299.2,237.34L300.5,235.82L301.81,232L303.11,232.24L304.41,227.77L305.72,224.29L307.02,217.42L308.33,215.9L309.63,216.68L310.94,219.56L312.24,214.25L313.54,212.8L314.85,209.62L316.15,205.27L317.46,213.22L321.37,200.48L322.68,206.19L323.98,192.57L325.28,194.33L326.59,188.43L327.89,192.58L330.5,205.21L331.81,198.51L333.11,193.88L334.41,194.23L335.72,178.6L337.02,173.46L338.33,186.75L339.63,179.52L340.94,191.47L342.24,182.54L343.55,187.42L344.85,188.12L346.15,191.75L347.46,187.7L348.76,179.13L350.07,181.49L352.68,168.57L353.98,157.68L355.28,162.59L356.59,194.11L357.89,196.28L359.2,188.75L360.5,196.74L361.81,194.52L363.11,189.79L364.42,199.11L367.02,192.01L368.33,194.94L369.63,199.72L370.94,199.01L372.24,201.66L373.55,217.55L374.85,224.5L376.15,211.34L377.46,208.29L378.76,217.01L381.37,219.82L382.68,224.45L383.98,229.69L385.29,227.74L389.2,207.01L390.5,203.44L391.81,207.75L393.11,201.3L395.72,203.17L397.02,200.11L398.33,198.08L399.63,204.55L402.24,209.43L403.55,207.67L404.85,208.2L406.16,210.12L407.46,205.74L408.76,210.1L410.07,212.29L411.37,212.18L412.68,206.94L413.98,210.2L415.29,209.12L416.59,206.53L417.89,210.59L419.2,208.36L420.5,206.67L421.81,219.57L423.11,209.82L424.42,180.96L425.72,110.56L427.03,156.13L428.33,150.24L429.63,148.71L430.94,160.11L432.24,158.91L433.55,159.75L434.85,151.84L436.16,154.7L437.46,105.75L440.07,139.41L441.37,132L442.68,123.61L443.98,128.26L445.29,127.59L446.59,128.51L447.9,142.6L449.2,142.5L450.5,158.34L451.81,132.17L453.11,134.74L454.42,141.01L455.72,147.75L457.03,143.39L458.33,148.53L459.63,120.58L460.94,95.04L462.24,16L463.55,35.5L464.85,42.53L466.16,71.4L467.46,65.93L468.77,77.47L470.07,103.27L471.37,131.74L472.68,124.09L473.98,87.88L475.29,94.34L476.59,100.06L477.9,129.07L479.2,142.06L480.5,127.89L481.81,117.84L483.11,149.41L484.42,148.82L485.72,132.97L488.33,127.46L489.63,122.4L492.24,135.14L493.55,124.39L494.85,121.06\" style=\"vector-effect: non-scaling-stroke; fill: none; stroke: rgb(99, 110, 250); stroke-opacity: 1; stroke-width: 2px; opacity: 1;\"/></g><g class=\"points\"/><g class=\"text\"/></g><g class=\"trace scatter trace3a19d2\" style=\"stroke-miterlimit: 2; opacity: 1;\"><g class=\"fills\"/><g class=\"errorbars\"/><g class=\"lines\"><path class=\"js-line\" d=\"M18.76,295.77L20.06,298.09L21.37,297.3L26.58,297.07L27.89,297.18L34.41,297.7L35.71,297.61L38.32,296.35L39.63,295.33L44.84,291.25L46.15,290.96L48.76,290.05L50.06,290.1L55.28,289.05L56.58,288.05L57.89,287.77L59.19,286.46L61.8,283.36L63.1,282.68L68.32,280.45L69.63,278.86L73.54,279.5L74.84,279.04L76.15,278.73L77.45,277.25L78.76,276.6L80.06,274.61L83.97,267.35L85.28,261.81L89.19,245.7L90.5,241.95L95.71,228.41L97.02,228.68L98.32,229.13L99.63,230.7L100.93,232.5L102.24,232.98L106.15,237.82L107.45,239.69L110.06,239.72L111.37,235.15L115.28,223.65L116.58,220.28L121.8,202.48L123.11,202.71L127.02,196.58L128.32,189.86L132.24,163.06L133.54,157.32L137.45,138.66L138.76,134L140.06,135.09L141.37,138.23L143.98,142.39L145.28,141.38L149.19,137.15L150.5,132.82L154.41,123.34L155.72,118.94L157.02,117.97L158.32,115.59L160.93,101.52L162.24,96.79L166.15,81.03L167.45,77.3L170.06,66.56L171.37,70.32L175.28,80.58L176.59,88.56L177.89,94.21L179.19,104.06L181.8,120.1L183.11,121.92L185.72,126.13L187.02,125.46L196.15,101.9L197.46,97.29L198.76,94.25L200.06,93.35L201.37,90.6L202.67,92.89L203.98,92.48L205.28,95.44L210.5,119.38L211.8,130.5L219.63,189.06L220.93,192.59L222.24,197.89L223.54,198.17L224.85,202.06L226.15,203.17L227.46,201.49L228.76,197.78L231.37,194.46L232.67,196.98L233.98,198.82L235.28,198.53L236.59,198.2L237.89,198.85L240.5,201.82L241.8,204.83L244.41,211.4L245.72,213.31L250.93,217.21L252.24,218.48L253.54,219.46L254.85,221.59L258.76,229.56L260.07,232.28L262.67,236.71L263.98,237.62L265.28,237.9L266.59,235.86L267.89,233.88L269.2,233.55L270.5,233.2L271.8,231.55L275.72,228.13L277.02,228.42L279.63,229.81L280.94,230.17L284.85,233.09L286.15,234.82L293.98,241.95L295.28,242.43L299.2,242.09L300.5,241.78L303.11,239.3L304.41,236.74L317.46,213.86L318.76,212.84L322.68,208.33L323.98,205.92L329.2,198.78L330.5,198.44L334.41,195.67L335.72,194.11L337.02,191.79L338.33,191.61L344.85,184.68L346.15,184.4L348.76,186.04L350.07,185.46L351.37,185.1L352.68,182.55L355.28,177.03L356.59,177.7L359.2,178.32L360.5,180.27L363.11,183.23L364.42,186.62L367.02,193.95L368.33,194.05L370.94,195.57L372.24,196.11L376.15,203.89L377.46,205.45L383.98,219.05L385.29,220.18L389.2,219.76L390.5,218.25L393.11,214.96L394.42,212.48L398.33,203.92L399.63,203.05L403.55,203.79L404.85,204.55L411.37,209.27L412.68,209.18L423.11,209.76L424.42,206.87L427.03,189.91L428.33,183.66L434.85,153.02L436.16,150.1L437.46,149.57L438.76,146.03L441.37,142.97L442.68,138.91L446.59,129.34L447.9,128L450.5,135.87L451.81,135.06L453.11,135.37L454.42,137.3L458.33,143.45L459.63,141L460.94,135.73L462.24,119.91L467.46,82.1L468.77,74.78L470.07,69.75L471.37,70.99L472.68,74.22L473.98,82.2L480.5,115.6L481.81,117.22L484.42,121.93L485.72,126.94L488.33,134.04L489.63,133.3L490.94,131.99L492.24,132.79L493.55,133.52L494.85,130.37\" style=\"vector-effect: non-scaling-stroke; fill: none; stroke: rgb(239, 85, 59); stroke-opacity: 1; stroke-width: 2px; opacity: 1;\"/></g><g class=\"points\"/><g class=\"text\"/></g><g class=\"trace scatter trace2f0554\" style=\"stroke-miterlimit: 2; opacity: 1;\"><g class=\"fills\"/><g class=\"errorbars\"/><g class=\"lines\"><path class=\"js-line\" d=\"M18.76,295.77L20.06,298.09L21.37,297.3L26.58,297.07L27.89,297.18L34.41,297.52L35.71,297.39L42.23,295.3L43.54,294.96L51.37,294.01L52.67,293.63L56.58,292.19L57.89,291.97L70.93,285.24L72.24,284.77L77.45,282.74L78.76,281.85L83.97,276.58L85.28,274.23L90.5,265.25L91.8,263.01L99.63,250.88L100.93,250.84L110.06,240.07L111.37,237.32L115.28,231.33L116.58,229.52L119.19,226.39L120.5,225.07L127.02,217.73L128.32,214.98L138.76,182.62L140.06,179.43L145.28,165.92L146.58,162.58L158.32,133.27L159.63,127.96L162.24,120.13L163.54,118.8L167.45,111.9L168.76,109.03L172.67,102L173.98,99.92L176.59,98.7L177.89,98.23L180.5,100.04L181.8,99.67L184.41,99.09L185.72,98.69L188.32,98.27L189.63,98.82L190.93,98.1L192.24,98.95L194.85,100.61L196.15,100.86L198.76,101.48L200.06,102.53L201.37,103.43L202.67,105.86L205.28,108.8L206.59,110.1L209.19,112.18L210.5,112.15L211.8,115.09L213.11,116.17L214.41,117.98L215.72,121.55L218.33,129.67L219.63,132.8L223.54,141.93L224.85,146.16L227.46,153.57L228.76,158.11L239.2,189.82L240.5,193.11L244.41,202.83L245.72,203.56L248.33,205.42L249.63,205.58L250.93,205.24L252.24,206.09L253.54,207.06L254.85,209.67L257.46,213.44L258.76,214.22L262.67,218.72L263.98,220.39L267.89,224.3L269.2,225.56L274.41,228.23L275.72,228.46L279.63,230.01L280.94,231.06L287.46,234.23L288.76,234.07L291.37,234.28L292.67,235.01L305.72,236.17L307.02,235.6L313.54,232.84L314.85,231.92L322.68,224.49L323.98,222.64L330.5,213.32L331.81,211.8L342.24,198.64L343.55,197.51L352.68,189.44L353.98,187.62L356.59,185.7L357.89,185.84L360.5,185.95L361.81,186.02L365.72,185.18L367.02,185.11L368.33,185.14L369.63,185.95L380.07,194.3L381.37,195.54L389.2,206.94L390.5,207.3L397.02,209.16L398.33,209.12L406.16,211.66L407.46,211.2L410.07,210.69L411.37,210.84L417.89,208.28L419.2,207.54L420.5,206.99L421.81,207.27L423.11,207.37L424.42,206.51L427.03,201.03L428.33,199.04L432.24,193.9L433.55,192.18L436.16,187.92L437.46,184L447.9,159.79L449.2,157.23L451.81,152.36L453.11,149.53L458.33,140.44L459.63,140.82L460.94,138.47L462.24,133.31L467.46,117.46L468.77,114.6L470.07,112.62L471.37,113.62L472.68,113.61L473.98,111.63L476.59,109.28L477.9,109.31L480.5,109.84L481.81,108.89L484.42,108.79L485.72,108.82L488.33,108.15L489.63,107.17L493.55,106.3L494.85,107.3\" style=\"vector-effect: non-scaling-stroke; fill: none; stroke: rgb(0, 204, 150); stroke-opacity: 1; stroke-width: 2px; opacity: 1;\"/></g><g class=\"points\"/><g class=\"text\"/></g><g class=\"trace scatter tracef105d3\" style=\"stroke-miterlimit: 2; opacity: 1;\"><g class=\"fills\"/><g class=\"errorbars\"/><g class=\"lines\"/><g class=\"points\"><path class=\"point\" transform=\"translate(31.8,297.47)\" d=\"M-5.77,2.5H5.77L0,-5Z\" style=\"opacity: 1; stroke-width: 2px; fill: rgb(0, 0, 0); fill-opacity: 1; stroke: rgb(0, 0, 0); stroke-opacity: 1;\"/><path class=\"point\" transform=\"translate(38.32,296.35)\" d=\"M-5.77,2.5H5.77L0,-5Z\" style=\"opacity: 1; stroke-width: 2px; fill: rgb(0, 0, 0); fill-opacity: 1; stroke: rgb(0, 0, 0); stroke-opacity: 1;\"/><path class=\"point\" transform=\"translate(197.46,97.29)\" d=\"M-5.77,2.5H5.77L0,-5Z\" style=\"opacity: 1; stroke-width: 2px; fill: rgb(0, 0, 0); fill-opacity: 1; stroke: rgb(0, 0, 0); stroke-opacity: 1;\"/><path class=\"point\" transform=\"translate(275.72,228.13)\" d=\"M-5.77,2.5H5.77L0,-5Z\" style=\"opacity: 1; stroke-width: 2px; fill: rgb(0, 0, 0); fill-opacity: 1; stroke: rgb(0, 0, 0); stroke-opacity: 1;\"/><path class=\"point\" transform=\"translate(305.72,234.48)\" d=\"M-5.77,2.5H5.77L0,-5Z\" style=\"opacity: 1; stroke-width: 2px; fill: rgb(0, 0, 0); fill-opacity: 1; stroke: rgb(0, 0, 0); stroke-opacity: 1;\"/><path class=\"point\" transform=\"translate(397.02,206.46)\" d=\"M-5.77,2.5H5.77L0,-5Z\" style=\"opacity: 1; stroke-width: 2px; fill: rgb(0, 0, 0); fill-opacity: 1; stroke: rgb(0, 0, 0); stroke-opacity: 1;\"/><path class=\"point\" transform=\"translate(425.72,195.8)\" d=\"M-5.77,2.5H5.77L0,-5Z\" style=\"opacity: 1; stroke-width: 2px; fill: rgb(0, 0, 0); fill-opacity: 1; stroke: rgb(0, 0, 0); stroke-opacity: 1;\"/><path class=\"point\" transform=\"translate(460.94,135.73)\" d=\"M-5.77,2.5H5.77L0,-5Z\" style=\"opacity: 1; stroke-width: 2px; fill: rgb(0, 0, 0); fill-opacity: 1; stroke: rgb(0, 0, 0); stroke-opacity: 1;\"/></g><g class=\"text\"/></g><g class=\"trace scatter trace3a15fd\" style=\"stroke-miterlimit: 2; opacity: 1;\"><g class=\"fills\"/><g class=\"errorbars\"/><g class=\"lines\"/><g class=\"points\"><path class=\"point\" transform=\"translate(33.1,297.75)\" d=\"M-5.77,-2.5H5.77L0,5Z\" style=\"opacity: 1; stroke-width: 2px; fill: rgb(231, 76, 60); fill-opacity: 1; stroke: rgb(231, 76, 60); stroke-opacity: 1;\"/><path class=\"point\" transform=\"translate(179.19,104.06)\" d=\"M-5.77,-2.5H5.77L0,5Z\" style=\"opacity: 1; stroke-width: 2px; fill: rgb(231, 76, 60); fill-opacity: 1; stroke: rgb(231, 76, 60); stroke-opacity: 1;\"/><path class=\"point\" transform=\"translate(209.19,113.21)\" d=\"M-5.77,-2.5H5.77L0,5Z\" style=\"opacity: 1; stroke-width: 2px; fill: rgb(231, 76, 60); fill-opacity: 1; stroke: rgb(231, 76, 60); stroke-opacity: 1;\"/><path class=\"point\" transform=\"translate(286.15,234.82)\" d=\"M-5.77,-2.5H5.77L0,5Z\" style=\"opacity: 1; stroke-width: 2px; fill: rgb(231, 76, 60); fill-opacity: 1; stroke: rgb(231, 76, 60); stroke-opacity: 1;\"/><path class=\"point\" transform=\"translate(364.42,186.62)\" d=\"M-5.77,-2.5H5.77L0,5Z\" style=\"opacity: 1; stroke-width: 2px; fill: rgb(231, 76, 60); fill-opacity: 1; stroke: rgb(231, 76, 60); stroke-opacity: 1;\"/><path class=\"point\" transform=\"translate(416.59,209.25)\" d=\"M-5.77,-2.5H5.77L0,5Z\" style=\"opacity: 1; stroke-width: 2px; fill: rgb(231, 76, 60); fill-opacity: 1; stroke: rgb(231, 76, 60); stroke-opacity: 1;\"/><path class=\"point\" transform=\"translate(458.33,143.45)\" d=\"M-5.77,-2.5H5.77L0,5Z\" style=\"opacity: 1; stroke-width: 2px; fill: rgb(231, 76, 60); fill-opacity: 1; stroke: rgb(231, 76, 60); stroke-opacity: 1;\"/><path class=\"point\" transform=\"translate(479.2,110)\" d=\"M-5.77,-2.5H5.77L0,5Z\" style=\"opacity: 1; stroke-width: 2px; fill: rgb(231, 76, 60); fill-opacity: 1; stroke: rgb(231, 76, 60); stroke-opacity: 1;\"/></g><g class=\"text\"/></g></g></g><g class=\"overplot\"/><path class=\"xlines-above crisp\" d=\"M0,0\" style=\"fill: none;\"/><path class=\"ylines-above crisp\" d=\"M0,0\" style=\"fill: none;\"/><g class=\"overlines-above\"/><g class=\"xaxislayer-above\"><g class=\"xtick\"><text text-anchor=\"middle\" x=\"0\" y=\"433\" transform=\"translate(111.8,0)\" style=\"font-family: 'Open Sans', verdana, arial, sans-serif; font-size: 12px; fill: rgb(42, 63, 95); fill-opacity: 1; white-space: pre; opacity: 1;\">Jan 2021</text></g><g class=\"xtick\"><text text-anchor=\"middle\" x=\"0\" y=\"433\" style=\"font-family: 'Open Sans', verdana, arial, sans-serif; font-size: 12px; fill: rgb(42, 63, 95); fill-opacity: 1; white-space: pre; opacity: 1;\" transform=\"translate(188.76,0)\">Mar 2021</text></g><g class=\"xtick\"><text text-anchor=\"middle\" x=\"0\" y=\"433\" style=\"font-family: 'Open Sans', verdana, arial, sans-serif; font-size: 12px; fill: rgb(42, 63, 95); fill-opacity: 1; white-space: pre; opacity: 1;\" transform=\"translate(268.32,0)\">May 2021</text></g><g class=\"xtick\"><text text-anchor=\"middle\" x=\"0\" y=\"433\" style=\"font-family: 'Open Sans', verdana, arial, sans-serif; font-size: 12px; fill: rgb(42, 63, 95); fill-opacity: 1; white-space: pre; opacity: 1;\" transform=\"translate(347.89,0)\">Jul 2021</text></g><g class=\"xtick\"><text text-anchor=\"middle\" x=\"0\" y=\"433\" style=\"font-family: 'Open Sans', verdana, arial, sans-serif; font-size: 12px; fill: rgb(42, 63, 95); fill-opacity: 1; white-space: pre; opacity: 1;\" transform=\"translate(428.76,0)\">Sep 2021</text></g><g class=\"xtick\"><text text-anchor=\"middle\" x=\"0\" y=\"433\" style=\"font-family: 'Open Sans', verdana, arial, sans-serif; font-size: 12px; fill: rgb(42, 63, 95); fill-opacity: 1; white-space: pre; opacity: 1;\" transform=\"translate(508.33,0)\">Nov 2021</text></g><g class=\"xtick\"><text text-anchor=\"middle\" x=\"0\" y=\"433\" style=\"font-family: 'Open Sans', verdana, arial, sans-serif; font-size: 12px; fill: rgb(42, 63, 95); fill-opacity: 1; white-space: pre; opacity: 1;\" transform=\"translate(587.9,0)\">Jan 2022</text></g></g><g class=\"yaxislayer-above\"><g class=\"ytick\"><text text-anchor=\"end\" x=\"79\" y=\"4.199999999999999\" transform=\"translate(0,399.02)\" style=\"font-family: 'Open Sans', verdana, arial, sans-serif; font-size: 12px; fill: rgb(42, 63, 95); fill-opacity: 1; white-space: pre; opacity: 1;\">0.2</text></g><g class=\"ytick\"><text text-anchor=\"end\" x=\"79\" y=\"4.199999999999999\" style=\"font-family: 'Open Sans', verdana, arial, sans-serif; font-size: 12px; fill: rgb(42, 63, 95); fill-opacity: 1; white-space: pre; opacity: 1;\" transform=\"translate(0,362.88)\">0.4</text></g><g class=\"ytick\"><text text-anchor=\"end\" x=\"79\" y=\"4.199999999999999\" style=\"font-family: 'Open Sans', verdana, arial, sans-serif; font-size: 12px; fill: rgb(42, 63, 95); fill-opacity: 1; white-space: pre; opacity: 1;\" transform=\"translate(0,326.74)\">0.6</text></g><g class=\"ytick\"><text text-anchor=\"end\" x=\"79\" y=\"4.199999999999999\" style=\"font-family: 'Open Sans', verdana, arial, sans-serif; font-size: 12px; fill: rgb(42, 63, 95); fill-opacity: 1; white-space: pre; opacity: 1;\" transform=\"translate(0,290.61)\">0.8</text></g><g class=\"ytick\"><text text-anchor=\"end\" x=\"79\" y=\"4.199999999999999\" style=\"font-family: 'Open Sans', verdana, arial, sans-serif; font-size: 12px; fill: rgb(42, 63, 95); fill-opacity: 1; white-space: pre; opacity: 1;\" transform=\"translate(0,254.47)\">1</text></g><g class=\"ytick\"><text text-anchor=\"end\" x=\"79\" y=\"4.199999999999999\" style=\"font-family: 'Open Sans', verdana, arial, sans-serif; font-size: 12px; fill: rgb(42, 63, 95); fill-opacity: 1; white-space: pre; opacity: 1;\" transform=\"translate(0,218.32999999999998)\">1.2</text></g><g class=\"ytick\"><text text-anchor=\"end\" x=\"79\" y=\"4.199999999999999\" style=\"font-family: 'Open Sans', verdana, arial, sans-serif; font-size: 12px; fill: rgb(42, 63, 95); fill-opacity: 1; white-space: pre; opacity: 1;\" transform=\"translate(0,182.19)\">1.4</text></g><g class=\"ytick\"><text text-anchor=\"end\" x=\"79\" y=\"4.199999999999999\" style=\"font-family: 'Open Sans', verdana, arial, sans-serif; font-size: 12px; fill: rgb(42, 63, 95); fill-opacity: 1; white-space: pre; opacity: 1;\" transform=\"translate(0,146.05)\">1.6</text></g><g class=\"ytick\"><text text-anchor=\"end\" x=\"79\" y=\"4.199999999999999\" style=\"font-family: 'Open Sans', verdana, arial, sans-serif; font-size: 12px; fill: rgb(42, 63, 95); fill-opacity: 1; white-space: pre; opacity: 1;\" transform=\"translate(0,109.91)\">1.8</text></g></g><g class=\"overaxes-above\"/></g></g><g class=\"polarlayer\"/><g class=\"smithlayer\"/><g class=\"ternarylayer\"/><g class=\"geolayer\"/><g class=\"funnelarealayer\"/><g class=\"pielayer\"/><g class=\"iciclelayer\"/><g class=\"treemaplayer\"/><g class=\"sunburstlayer\"/><g class=\"glimages\"/><defs id=\"topdefs-dc3828\"><g class=\"clips\"/><clipPath id=\"legenddc3828\"><rect width=\"87\" height=\"86\" x=\"0\" y=\"0\"/></clipPath></defs><g class=\"layer-above\"><g class=\"imagelayer\"/><g class=\"shapelayer\"/></g><g class=\"infolayer\"><g class=\"legend\" pointer-events=\"all\" transform=\"translate(601.22,100)\"><rect class=\"bg\" shape-rendering=\"crispEdges\" style=\"stroke: rgb(68, 68, 68); stroke-opacity: 1; fill: rgb(255, 255, 255); fill-opacity: 1; stroke-width: 0px;\" width=\"87\" height=\"86\" x=\"0\" y=\"0\"/><g class=\"scrollbox\" transform=\"\" clip-path=\"url(#legenddc3828)\"><g class=\"groups\"><g class=\"traces\" transform=\"translate(0,14.5)\" style=\"opacity: 1;\"><text class=\"legendtext\" text-anchor=\"start\" x=\"40\" y=\"4.680000000000001\" style=\"font-family: 'Open Sans', verdana, arial, sans-serif; font-size: 12px; fill: rgb(42, 63, 95); fill-opacity: 1; white-space: pre;\">SMA9</text><g class=\"layers\" style=\"opacity: 1;\"><g class=\"legendfill\"/><g class=\"legendlines\"><path class=\"js-line\" d=\"M5,0h30\" style=\"fill: none; stroke: rgb(239, 85, 59); stroke-opacity: 1; stroke-width: 2px;\"/></g><g class=\"legendsymbols\"><g class=\"legendpoints\"/></g></g><rect class=\"legendtoggle\" x=\"0\" y=\"-9.5\" width=\"81.78125\" height=\"19\" style=\"fill: rgb(0, 0, 0); fill-opacity: 0;\"/></g><g class=\"traces\" transform=\"translate(0,33.5)\" style=\"opacity: 1;\"><text class=\"legendtext\" text-anchor=\"start\" x=\"40\" y=\"4.680000000000001\" style=\"font-family: 'Open Sans', verdana, arial, sans-serif; font-size: 12px; fill: rgb(42, 63, 95); fill-opacity: 1; white-space: pre;\">SMA26</text><g class=\"layers\" style=\"opacity: 1;\"><g class=\"legendfill\"/><g class=\"legendlines\"><path class=\"js-line\" d=\"M5,0h30\" style=\"fill: none; stroke: rgb(0, 204, 150); stroke-opacity: 1; stroke-width: 2px;\"/></g><g class=\"legendsymbols\"><g class=\"legendpoints\"/></g></g><rect class=\"legendtoggle\" x=\"0\" y=\"-9.5\" width=\"81.78125\" height=\"19\" style=\"fill: rgb(0, 0, 0); fill-opacity: 0;\"/></g><g class=\"traces\" transform=\"translate(0,52.5)\" style=\"opacity: 1;\"><text class=\"legendtext\" text-anchor=\"start\" x=\"40\" y=\"4.680000000000001\" style=\"font-family: 'Open Sans', verdana, arial, sans-serif; font-size: 12px; fill: rgb(42, 63, 95); fill-opacity: 1; white-space: pre;\">Buy</text><g class=\"layers\" style=\"opacity: 1;\"><g class=\"legendfill\"/><g class=\"legendlines\"/><g class=\"legendsymbols\"><g class=\"legendpoints\"><path class=\"scatterpts\" transform=\"translate(20,0)\" d=\"M-5.77,2.5H5.77L0,-5Z\" style=\"opacity: 1; stroke-width: 2px; fill: rgb(0, 0, 0); fill-opacity: 1; stroke: rgb(0, 0, 0); stroke-opacity: 1;\"/></g></g></g><rect class=\"legendtoggle\" x=\"0\" y=\"-9.5\" width=\"81.78125\" height=\"19\" style=\"fill: rgb(0, 0, 0); fill-opacity: 0;\"/></g><g class=\"traces\" transform=\"translate(0,71.5)\" style=\"opacity: 1;\"><text class=\"legendtext\" text-anchor=\"start\" x=\"40\" y=\"4.680000000000001\" style=\"font-family: 'Open Sans', verdana, arial, sans-serif; font-size: 12px; fill: rgb(42, 63, 95); fill-opacity: 1; white-space: pre;\">Sell</text><g class=\"layers\" style=\"opacity: 1;\"><g class=\"legendfill\"/><g class=\"legendlines\"/><g class=\"legendsymbols\"><g class=\"legendpoints\"><path class=\"scatterpts\" transform=\"translate(20,0)\" d=\"M-5.77,-2.5H5.77L0,5Z\" style=\"opacity: 1; stroke-width: 2px; fill: rgb(231, 76, 60); fill-opacity: 1; stroke: rgb(231, 76, 60); stroke-opacity: 1;\"/></g></g></g><rect class=\"legendtoggle\" x=\"0\" y=\"-9.5\" width=\"81.78125\" height=\"19\" style=\"fill: rgb(0, 0, 0); fill-opacity: 0;\"/></g></g></g><rect class=\"scrollbar\" rx=\"20\" ry=\"3\" width=\"0\" height=\"0\" style=\"fill: rgb(128, 139, 164); fill-opacity: 1;\" x=\"0\" y=\"0\"/></g><g class=\"g-gtitle\"><text class=\"gtitle\" x=\"35\" y=\"50\" text-anchor=\"start\" dy=\"0em\" style=\"font-family: 'Open Sans', verdana, arial, sans-serif; font-size: 17px; fill: rgb(42, 63, 95); opacity: 1; font-weight: normal; white-space: pre;\">SMA Strategy</text></g><g class=\"g-xtitle\"><text class=\"xtitle\" x=\"335.5\" y=\"460.3\" text-anchor=\"middle\" style=\"font-family: 'Open Sans', verdana, arial, sans-serif; font-size: 14px; fill: rgb(42, 63, 95); opacity: 1; font-weight: normal; white-space: pre;\">Date</text></g><g class=\"g-ytitle\"><text class=\"ytitle\" transform=\"rotate(-90,34.575,260)\" x=\"34.575\" y=\"260\" text-anchor=\"middle\" style=\"font-family: 'Open Sans', verdana, arial, sans-serif; font-size: 14px; fill: rgb(42, 63, 95); opacity: 1; font-weight: normal; white-space: pre;\">Close</text></g></g></svg>"
      ]
     },
     "metadata": {},
     "output_type": "display_data"
    }
   ],
   "source": [
    "fig = px.line(df, y='Close', title='SMA Strategy', labels={'index': 'Date'})\n",
    "fig.add_scatter(x=df.index, y=df[small_sma], mode='lines', name=small_sma)\n",
    "fig.add_scatter(x=df.index, y=df[big_sma], mode='lines', name=big_sma)\n",
    "\n",
    "buy_signal = df[df['SMA_Position'] == 1]\n",
    "sell_signal = df[df['SMA_Position'] == -1]\n",
    "\n",
    "fig.add_trace(go.Scatter(mode='markers', x=buy_signal.index, y=buy_signal[small_sma] ,marker_symbol='triangle-up',\n",
    "                        marker_line_color='#000000', marker_color='#000000',\n",
    "                        marker_line_width=2, marker_size=10, name='Buy'))\n",
    "\n",
    "fig.add_trace(go.Scatter(mode='markers', x=sell_signal.index, y=sell_signal[small_sma], marker_symbol='triangle-down',\n",
    "                        marker_line_color='#E74C3C', marker_color='#E74C3C',\n",
    "                        marker_line_width=2, marker_size=10, name='Sell'))\n",
    "\n",
    "fig.show('svg')"
   ]
  },
  {
   "cell_type": "markdown",
   "metadata": {},
   "source": [
    "# EMA — Exponential Moving Average"
   ]
  },
  {
   "cell_type": "code",
   "execution_count": 10,
   "metadata": {
    "ExecuteTime": {
     "end_time": "2021-12-23T01:22:15.855935Z",
     "start_time": "2021-12-23T01:22:15.827824Z"
    }
   },
   "outputs": [
    {
     "data": {
      "text/html": [
       "<div>\n",
       "<style scoped>\n",
       "    .dataframe tbody tr th:only-of-type {\n",
       "        vertical-align: middle;\n",
       "    }\n",
       "\n",
       "    .dataframe tbody tr th {\n",
       "        vertical-align: top;\n",
       "    }\n",
       "\n",
       "    .dataframe thead th {\n",
       "        text-align: right;\n",
       "    }\n",
       "</style>\n",
       "<table border=\"1\" class=\"dataframe\">\n",
       "  <thead>\n",
       "    <tr style=\"text-align: right;\">\n",
       "      <th></th>\n",
       "      <th>Close</th>\n",
       "      <th>SMA9</th>\n",
       "      <th>SMA26</th>\n",
       "      <th>SMA_Signal</th>\n",
       "      <th>SMA_Position</th>\n",
       "      <th>EMA9</th>\n",
       "      <th>EMA26</th>\n",
       "    </tr>\n",
       "    <tr>\n",
       "      <th>Date</th>\n",
       "      <th></th>\n",
       "      <th></th>\n",
       "      <th></th>\n",
       "      <th></th>\n",
       "      <th></th>\n",
       "      <th></th>\n",
       "      <th></th>\n",
       "    </tr>\n",
       "  </thead>\n",
       "  <tbody>\n",
       "    <tr>\n",
       "      <th>2020-12-22</th>\n",
       "      <td>0.217977</td>\n",
       "      <td>0.217977</td>\n",
       "      <td>0.217977</td>\n",
       "      <td>0.0</td>\n",
       "      <td>NaN</td>\n",
       "      <td>0.217977</td>\n",
       "      <td>0.217977</td>\n",
       "    </tr>\n",
       "    <tr>\n",
       "      <th>2020-12-23</th>\n",
       "      <td>0.192380</td>\n",
       "      <td>0.205178</td>\n",
       "      <td>0.205178</td>\n",
       "      <td>0.0</td>\n",
       "      <td>0.0</td>\n",
       "      <td>0.212858</td>\n",
       "      <td>0.216081</td>\n",
       "    </tr>\n",
       "    <tr>\n",
       "      <th>2020-12-24</th>\n",
       "      <td>0.218165</td>\n",
       "      <td>0.209507</td>\n",
       "      <td>0.209507</td>\n",
       "      <td>0.0</td>\n",
       "      <td>0.0</td>\n",
       "      <td>0.213919</td>\n",
       "      <td>0.216235</td>\n",
       "    </tr>\n",
       "    <tr>\n",
       "      <th>2020-12-25</th>\n",
       "      <td>0.214190</td>\n",
       "      <td>0.210678</td>\n",
       "      <td>0.210678</td>\n",
       "      <td>0.0</td>\n",
       "      <td>0.0</td>\n",
       "      <td>0.213973</td>\n",
       "      <td>0.216084</td>\n",
       "    </tr>\n",
       "    <tr>\n",
       "      <th>2020-12-26</th>\n",
       "      <td>0.213414</td>\n",
       "      <td>0.211225</td>\n",
       "      <td>0.211225</td>\n",
       "      <td>0.0</td>\n",
       "      <td>0.0</td>\n",
       "      <td>0.213861</td>\n",
       "      <td>0.215886</td>\n",
       "    </tr>\n",
       "  </tbody>\n",
       "</table>\n",
       "</div>"
      ],
      "text/plain": [
       "               Close      SMA9     SMA26  SMA_Signal  SMA_Position      EMA9  \\\n",
       "Date                                                                           \n",
       "2020-12-22  0.217977  0.217977  0.217977         0.0           NaN  0.217977   \n",
       "2020-12-23  0.192380  0.205178  0.205178         0.0           0.0  0.212858   \n",
       "2020-12-24  0.218165  0.209507  0.209507         0.0           0.0  0.213919   \n",
       "2020-12-25  0.214190  0.210678  0.210678         0.0           0.0  0.213973   \n",
       "2020-12-26  0.213414  0.211225  0.211225         0.0           0.0  0.213861   \n",
       "\n",
       "               EMA26  \n",
       "Date                  \n",
       "2020-12-22  0.217977  \n",
       "2020-12-23  0.216081  \n",
       "2020-12-24  0.216235  \n",
       "2020-12-25  0.216084  \n",
       "2020-12-26  0.215886  "
      ]
     },
     "execution_count": 10,
     "metadata": {},
     "output_type": "execute_result"
    }
   ],
   "source": [
    "small_ema = 'EMA' + str(window1)\n",
    "big_ema = 'EMA' + str(window2)\n",
    "\n",
    "df[small_ema] = df['Close'].ewm(span=window1, adjust=False).mean()\n",
    "df[big_ema] = df['Close'].ewm(span=window2, adjust=False).mean()\n",
    "df.head()"
   ]
  },
  {
   "cell_type": "code",
   "execution_count": 11,
   "metadata": {
    "ExecuteTime": {
     "end_time": "2021-12-23T01:22:15.953224Z",
     "start_time": "2021-12-23T01:22:15.918511Z"
    }
   },
   "outputs": [
    {
     "data": {
      "text/html": [
       "<div>\n",
       "<style scoped>\n",
       "    .dataframe tbody tr th:only-of-type {\n",
       "        vertical-align: middle;\n",
       "    }\n",
       "\n",
       "    .dataframe tbody tr th {\n",
       "        vertical-align: top;\n",
       "    }\n",
       "\n",
       "    .dataframe thead th {\n",
       "        text-align: right;\n",
       "    }\n",
       "</style>\n",
       "<table border=\"1\" class=\"dataframe\">\n",
       "  <thead>\n",
       "    <tr style=\"text-align: right;\">\n",
       "      <th></th>\n",
       "      <th>Close</th>\n",
       "      <th>SMA9</th>\n",
       "      <th>SMA26</th>\n",
       "      <th>SMA_Signal</th>\n",
       "      <th>SMA_Position</th>\n",
       "      <th>EMA9</th>\n",
       "      <th>EMA26</th>\n",
       "      <th>EMA_Signal</th>\n",
       "      <th>EMA_Position</th>\n",
       "    </tr>\n",
       "    <tr>\n",
       "      <th>Date</th>\n",
       "      <th></th>\n",
       "      <th></th>\n",
       "      <th></th>\n",
       "      <th></th>\n",
       "      <th></th>\n",
       "      <th></th>\n",
       "      <th></th>\n",
       "      <th></th>\n",
       "      <th></th>\n",
       "    </tr>\n",
       "  </thead>\n",
       "  <tbody>\n",
       "    <tr>\n",
       "      <th>2021-12-18</th>\n",
       "      <td>1.177470</td>\n",
       "      <td>1.117136</td>\n",
       "      <td>1.261721</td>\n",
       "      <td>0.0</td>\n",
       "      <td>0.0</td>\n",
       "      <td>1.149774</td>\n",
       "      <td>1.182908</td>\n",
       "      <td>0.0</td>\n",
       "      <td>0.0</td>\n",
       "    </tr>\n",
       "    <tr>\n",
       "      <th>2021-12-19</th>\n",
       "      <td>1.134094</td>\n",
       "      <td>1.124407</td>\n",
       "      <td>1.264521</td>\n",
       "      <td>0.0</td>\n",
       "      <td>0.0</td>\n",
       "      <td>1.146638</td>\n",
       "      <td>1.179292</td>\n",
       "      <td>0.0</td>\n",
       "      <td>0.0</td>\n",
       "    </tr>\n",
       "    <tr>\n",
       "      <th>2021-12-20</th>\n",
       "      <td>1.106973</td>\n",
       "      <td>1.119951</td>\n",
       "      <td>1.267371</td>\n",
       "      <td>0.0</td>\n",
       "      <td>0.0</td>\n",
       "      <td>1.138705</td>\n",
       "      <td>1.173935</td>\n",
       "      <td>0.0</td>\n",
       "      <td>0.0</td>\n",
       "    </tr>\n",
       "    <tr>\n",
       "      <th>2021-12-21</th>\n",
       "      <td>1.166475</td>\n",
       "      <td>1.115930</td>\n",
       "      <td>1.266560</td>\n",
       "      <td>0.0</td>\n",
       "      <td>0.0</td>\n",
       "      <td>1.144259</td>\n",
       "      <td>1.173383</td>\n",
       "      <td>0.0</td>\n",
       "      <td>0.0</td>\n",
       "    </tr>\n",
       "    <tr>\n",
       "      <th>2021-12-22</th>\n",
       "      <td>1.184876</td>\n",
       "      <td>1.133360</td>\n",
       "      <td>1.261023</td>\n",
       "      <td>0.0</td>\n",
       "      <td>0.0</td>\n",
       "      <td>1.152382</td>\n",
       "      <td>1.174234</td>\n",
       "      <td>0.0</td>\n",
       "      <td>0.0</td>\n",
       "    </tr>\n",
       "  </tbody>\n",
       "</table>\n",
       "</div>"
      ],
      "text/plain": [
       "               Close      SMA9     SMA26  SMA_Signal  SMA_Position      EMA9  \\\n",
       "Date                                                                           \n",
       "2021-12-18  1.177470  1.117136  1.261721         0.0           0.0  1.149774   \n",
       "2021-12-19  1.134094  1.124407  1.264521         0.0           0.0  1.146638   \n",
       "2021-12-20  1.106973  1.119951  1.267371         0.0           0.0  1.138705   \n",
       "2021-12-21  1.166475  1.115930  1.266560         0.0           0.0  1.144259   \n",
       "2021-12-22  1.184876  1.133360  1.261023         0.0           0.0  1.152382   \n",
       "\n",
       "               EMA26  EMA_Signal  EMA_Position  \n",
       "Date                                            \n",
       "2021-12-18  1.182908         0.0           0.0  \n",
       "2021-12-19  1.179292         0.0           0.0  \n",
       "2021-12-20  1.173935         0.0           0.0  \n",
       "2021-12-21  1.173383         0.0           0.0  \n",
       "2021-12-22  1.174234         0.0           0.0  "
      ]
     },
     "execution_count": 11,
     "metadata": {},
     "output_type": "execute_result"
    }
   ],
   "source": [
    "df['EMA_Signal'] = 0.0\n",
    "df['EMA_Signal'] = np.where(df[small_ema] > df[big_ema], 1.0, 0.0)\n",
    "df['EMA_Position'] = df['EMA_Signal'].diff()\n",
    "\n",
    "df.tail()"
   ]
  },
  {
   "cell_type": "code",
   "execution_count": 17,
   "metadata": {
    "ExecuteTime": {
     "end_time": "2021-12-23T01:23:33.972015Z",
     "start_time": "2021-12-23T01:23:33.781145Z"
    }
   },
   "outputs": [
    {
     "data": {
      "image/svg+xml": [
       "<svg class=\"main-svg\" xmlns=\"http://www.w3.org/2000/svg\" xmlns:xlink=\"http://www.w3.org/1999/xlink\" width=\"700\" height=\"500\" style=\"\" viewBox=\"0 0 700 500\"><rect x=\"0\" y=\"0\" width=\"700\" height=\"500\" style=\"fill: rgb(255, 255, 255); fill-opacity: 1;\"/><defs id=\"defs-8a07d6\"><g class=\"clips\"><clipPath id=\"clip8a07d6xyplot\" class=\"plotclip\"><rect width=\"511\" height=\"320\"/></clipPath><clipPath class=\"axesclip\" id=\"clip8a07d6x\"><rect x=\"80\" y=\"0\" width=\"511\" height=\"500\"/></clipPath><clipPath class=\"axesclip\" id=\"clip8a07d6y\"><rect x=\"0\" y=\"100\" width=\"700\" height=\"320\"/></clipPath><clipPath class=\"axesclip\" id=\"clip8a07d6xy\"><rect x=\"80\" y=\"100\" width=\"511\" height=\"320\"/></clipPath></g><g class=\"gradients\"/><g class=\"patterns\"/></defs><g class=\"bglayer\"><rect class=\"bg\" x=\"80\" y=\"100\" width=\"511\" height=\"320\" style=\"fill: rgb(229, 236, 246); fill-opacity: 1; stroke-width: 0;\"/></g><g class=\"layer-below\"><g class=\"imagelayer\"/><g class=\"shapelayer\"/></g><g class=\"cartesianlayer\"><g class=\"subplot xy\"><g class=\"layer-subplot\"><g class=\"shapelayer\"/><g class=\"imagelayer\"/></g><g class=\"gridlayer\"><g class=\"x\"><path class=\"xgrid crisp\" transform=\"translate(106.53999999999999,0)\" d=\"M0,100v320\" style=\"stroke: rgb(255, 255, 255); stroke-opacity: 1; stroke-width: 1px;\"/><path class=\"xgrid crisp\" transform=\"translate(184.17000000000002,0)\" d=\"M0,100v320\" style=\"stroke: rgb(255, 255, 255); stroke-opacity: 1; stroke-width: 1px;\"/><path class=\"xgrid crisp\" transform=\"translate(264.44,0)\" d=\"M0,100v320\" style=\"stroke: rgb(255, 255, 255); stroke-opacity: 1; stroke-width: 1px;\"/><path class=\"xgrid crisp\" transform=\"translate(344.71,0)\" d=\"M0,100v320\" style=\"stroke: rgb(255, 255, 255); stroke-opacity: 1; stroke-width: 1px;\"/><path class=\"xgrid crisp\" transform=\"translate(426.3,0)\" d=\"M0,100v320\" style=\"stroke: rgb(255, 255, 255); stroke-opacity: 1; stroke-width: 1px;\"/><path class=\"xgrid crisp\" transform=\"translate(506.56,0)\" d=\"M0,100v320\" style=\"stroke: rgb(255, 255, 255); stroke-opacity: 1; stroke-width: 1px;\"/><path class=\"xgrid crisp\" transform=\"translate(586.8299999999999,0)\" d=\"M0,100v320\" style=\"stroke: rgb(255, 255, 255); stroke-opacity: 1; stroke-width: 1px;\"/></g><g class=\"y\"><path class=\"ygrid crisp\" transform=\"translate(0,399.63)\" d=\"M80,0h511\" style=\"stroke: rgb(255, 255, 255); stroke-opacity: 1; stroke-width: 1px;\"/><path class=\"ygrid crisp\" transform=\"translate(0,363.41)\" d=\"M80,0h511\" style=\"stroke: rgb(255, 255, 255); stroke-opacity: 1; stroke-width: 1px;\"/><path class=\"ygrid crisp\" transform=\"translate(0,327.2)\" d=\"M80,0h511\" style=\"stroke: rgb(255, 255, 255); stroke-opacity: 1; stroke-width: 1px;\"/><path class=\"ygrid crisp\" transform=\"translate(0,290.98)\" d=\"M80,0h511\" style=\"stroke: rgb(255, 255, 255); stroke-opacity: 1; stroke-width: 1px;\"/><path class=\"ygrid crisp\" transform=\"translate(0,254.76)\" d=\"M80,0h511\" style=\"stroke: rgb(255, 255, 255); stroke-opacity: 1; stroke-width: 1px;\"/><path class=\"ygrid crisp\" transform=\"translate(0,218.55)\" d=\"M80,0h511\" style=\"stroke: rgb(255, 255, 255); stroke-opacity: 1; stroke-width: 1px;\"/><path class=\"ygrid crisp\" transform=\"translate(0,182.32999999999998)\" d=\"M80,0h511\" style=\"stroke: rgb(255, 255, 255); stroke-opacity: 1; stroke-width: 1px;\"/><path class=\"ygrid crisp\" transform=\"translate(0,146.11)\" d=\"M80,0h511\" style=\"stroke: rgb(255, 255, 255); stroke-opacity: 1; stroke-width: 1px;\"/><path class=\"ygrid crisp\" transform=\"translate(0,109.9)\" d=\"M80,0h511\" style=\"stroke: rgb(255, 255, 255); stroke-opacity: 1; stroke-width: 1px;\"/></g></g><g class=\"zerolinelayer\"/><path class=\"xlines-below\"/><path class=\"ylines-below\"/><g class=\"overlines-below\"/><g class=\"xaxislayer-below\"/><g class=\"yaxislayer-below\"/><g class=\"overaxes-below\"/><g class=\"plot\" transform=\"translate(80,100)\" clip-path=\"url(#clip8a07d6xyplot)\"><g class=\"scatterlayer mlayer\"><g class=\"trace scatter trace6bceab\" style=\"stroke-miterlimit: 2; opacity: 1;\"><g class=\"fills\"/><g class=\"errorbars\"/><g class=\"lines\"><path class=\"js-line\" d=\"M13.38,296.37L14.69,301.01L16.01,296.34L19.96,298.06L21.27,297.66L25.22,299.69L26.54,298.7L27.85,298.9L29.17,296.65L30.48,296.39L31.8,293.85L33.12,290.49L34.43,289.35L35.75,290.39L37.06,285.98L38.38,289.13L39.7,294.34L41.01,294.04L42.33,290.69L43.64,291.36L44.96,290.91L46.27,287.38L47.59,286.44L48.91,284.63L50.22,286.92L51.54,285.32L52.85,291.53L54.17,278.9L55.49,276.21L56.8,278.06L58.12,281.24L59.43,281.72L60.75,280.58\" style=\"vector-effect: non-scaling-stroke; fill: none; stroke: rgb(99, 110, 250); stroke-opacity: 1; stroke-width: 2px; opacity: 1;\"/><path class=\"js-line\" d=\"M63.38,279.87L64.7,278.76L66.01,281.11L67.33,278.79L68.64,278.43L69.96,277.56L71.28,279.22L72.59,268.73L73.91,272L75.22,261.89L76.54,260.07L79.17,255.82L80.49,228.43L81.8,222.1L83.12,223.95L84.44,234.12L85.75,238.24L88.38,231.66L89.7,221.08L92.33,230.82L93.65,226.16L96.28,250.34L97.59,242.6L98.91,248.65L100.23,240.56L101.54,242.47L102.86,241.8L104.17,230.42L105.49,226.82L106.81,196.92L108.12,210.22L110.75,215.29L112.07,210.12L113.38,202.04L114.7,200.83L116.02,187.57L117.33,190.54L118.65,198.97L119.96,188.22L121.28,196.35L122.6,198.04L125.23,112.94L126.54,115.4L127.86,120.46L129.18,138.69L130.49,133.77L131.81,137.81L133.12,143.74L134.44,156.01L135.75,159.33L137.07,141.24L138.39,139.96L139.7,133.42L141.02,129.53L142.33,123.06L143.65,129L144.97,125.15L146.28,116.93L147.6,131.11L148.91,120.9L150.23,103.03L151.55,93.75L152.86,120.74L154.18,101.58L155.49,58.14L158.12,74.24L159.44,78.34L160.76,64.28L162.07,70.3L163.39,60.13L164.7,59.18L166.02,66.25L167.34,92L168.65,95.96L169.97,105.25L171.28,113.12L172.6,136.21L173.92,121.27L175.23,148.96L176.55,150.81L177.86,119.29L179.18,108.41L180.49,118.65L181.81,120.57L183.13,107.11L184.44,105.76L185.76,108.31L187.07,101.84L188.39,123.64L189.71,88.45L191.02,82.23L193.65,78.93L194.97,79.74L196.29,97.66L197.6,83.45L198.92,122.48L200.23,119.96L201.55,115.11L202.86,129.69L204.18,129.26L205.5,143.37L206.81,135.43L208.13,197.93L209.44,176.94L210.76,198.16L213.39,233.96L214.71,204.59L216.02,202.27L217.34,175.16L218.66,183.27L219.97,200.43L221.29,212.06L222.6,208.2L223.92,197.02L225.23,200.49L227.87,185.58L229.18,197.91L230.5,199.86L231.81,197.82L234.45,214.08L235.76,208.84L238.39,218.57L239.71,223.88L241.03,218.81L242.34,217.15L243.66,206.65L244.97,216.71L246.29,216.58L247.6,225.02L248.92,226.86L250.24,227.37L251.55,243.17L252.87,248.31L254.18,233.72L255.5,232.4L256.82,241.24L258.13,243.59L262.08,229.92L263.4,224.73L264.71,230.42L266.03,230.76L267.34,229.25L268.66,226.39L269.97,232.76L271.29,228.44L272.61,224.54L273.92,232.59L275.24,232.77L276.55,234.92L277.87,234.03L279.19,236.22L281.82,239.75L283.13,244.11L284.45,236.29L285.77,239.08L287.08,241.17L288.4,246.36L289.71,251.26L291.03,245.16L294.98,238.46L296.29,237.82L297.61,236.29L298.92,232.46L300.24,232.71L301.56,228.23L302.87,224.74L304.19,217.85L305.5,216.33L306.82,217.11L308.14,220L309.45,214.68L310.77,213.22L312.08,210.04L313.4,205.68L314.71,213.64L318.66,200.87L319.98,206.6L321.29,192.95L322.61,194.72L323.93,188.8L325.24,192.96L327.87,205.61L329.19,198.9L330.51,194.26L331.82,194.61L333.14,178.95L334.45,173.79L335.77,187.11L337.08,179.87L338.4,191.85L339.72,182.9L341.03,187.79L342.35,188.49L343.66,192.12L344.98,188.06L346.3,179.48L347.61,181.84L350.24,168.9L351.56,157.98L352.88,162.9L354.19,194.49L355.51,196.67L356.82,189.12L358.14,197.13L359.45,194.9L360.77,190.17L362.09,199.5L364.72,192.39L366.03,195.32L367.35,200.11L368.67,199.4L369.98,202.06L371.3,217.98L372.61,224.94L373.93,211.75L375.25,208.7L376.56,217.44L379.19,220.25L380.51,224.89L381.82,230.15L383.14,228.2L387.09,207.42L388.4,203.85L389.72,208.16L391.04,201.7L393.67,203.57L394.98,200.5L396.3,198.47L397.62,204.96L400.25,209.85L401.56,208.08L402.88,208.61L404.19,210.53L405.51,206.15L406.83,210.52L408.14,212.71L409.46,212.6L410.77,207.35L412.09,210.62L413.41,209.53L414.72,206.94L416.04,211.01L417.35,208.77L418.67,207.08L419.99,220L421.3,210.23L422.62,181.32L423.93,110.76L425.25,156.42L426.56,150.53L427.88,148.99L429.2,160.42L430.51,159.21L431.83,160.06L433.14,152.13L434.46,155L435.78,105.94L438.41,139.68L439.72,132.25L441.04,123.84L442.36,128.5L443.67,127.83L444.99,128.75L446.3,142.87L447.62,142.77L448.93,158.64L450.25,132.42L451.57,134.99L452.88,141.27L454.2,148.03L455.51,143.66L456.83,148.81L458.15,120.8L459.46,95.21L460.78,16L462.09,35.55L463.41,42.58L464.73,71.52L466.04,66.04L467.36,77.6L468.67,103.46L469.99,131.99L471.3,124.32L472.62,88.03L473.94,94.51L475.25,100.24L476.57,129.32L477.88,142.33L479.2,128.13L480.52,118.06L481.83,149.69L483.15,149.11L484.46,133.22L487.1,127.7L488.41,122.63L491.04,135.39L492.36,124.62L493.67,121.29\" style=\"vector-effect: non-scaling-stroke; fill: none; stroke: rgb(99, 110, 250); stroke-opacity: 1; stroke-width: 2px; opacity: 1;\"/></g><g class=\"points\"/><g class=\"text\"/></g><g class=\"trace scatter trace9dc055\" style=\"stroke-miterlimit: 2; opacity: 1;\"><g class=\"fills\"/><g class=\"errorbars\"/><g class=\"lines\"><path class=\"js-line\" d=\"M13.38,296.37L14.69,297.3L16.01,297.11L22.59,297.62L23.9,297.96L27.85,298.49L29.17,298.12L31.8,296.99L33.12,295.69L38.38,291.5L39.7,292.06L42.33,292.1L43.64,291.96L46.27,290.87L47.59,289.99L50.22,288.51L51.54,287.88L52.85,288.61L54.17,286.66L56.8,283.27L58.12,282.87L67.33,280.63L68.64,280.19L71.28,279.57L72.59,277.4L73.91,276.32L75.22,273.44L79.17,265.62L80.49,258.18L83.12,245.56L84.44,243.27L87.07,240.88L88.38,239.03L91.01,233.34L92.33,232.83L93.65,231.5L94.96,232.82L96.28,236.33L97.59,237.58L98.91,239.8L100.23,239.95L102.86,240.72L104.17,238.66L105.49,236.29L106.81,228.42L109.44,222.3L110.75,220.9L113.38,215.4L114.7,212.49L117.33,204.11L118.65,203.08L119.96,200.11L121.28,199.36L122.6,199.09L123.91,189.17L126.54,162.22L127.86,153.87L131.81,145.5L133.12,145.15L135.75,149.72L137.07,148.02L139.7,143.81L141.02,140.96L143.65,135.7L144.97,133.59L146.28,130.26L147.6,130.43L148.91,128.52L150.23,123.42L151.55,117.49L152.86,118.14L154.18,114.83L155.49,103.49L158.12,92.15L159.44,89.39L163.39,77.27L164.7,73.65L166.02,72.17L167.34,76.14L169.97,85.13L171.28,90.73L175.23,113.08L176.55,120.63L177.86,120.36L179.18,117.97L181.81,118.6L183.13,116.3L187.07,110.78L188.39,113.35L193.65,94.74L194.97,91.74L196.29,92.92L197.6,91.03L200.23,101.85L201.55,104.5L206.81,122.66L208.13,137.71L210.76,156.08L212.08,167.31L213.39,180.64L214.71,185.43L216.02,188.8L217.34,186.07L218.66,185.51L219.97,188.49L222.6,196.21L223.92,196.37L225.23,197.19L226.55,196.03L227.87,193.94L229.18,194.73L231.81,196.17L233.13,198.74L235.76,203.22L237.08,205.66L241.03,212.86L242.34,213.72L243.66,212.3L244.97,213.18L246.29,213.86L247.6,216.09L250.24,220.07L251.55,224.69L252.87,229.41L254.18,230.27L255.5,230.7L256.82,232.81L258.13,234.96L259.45,235.57L260.76,235.47L262.08,234.36L263.4,232.43L264.71,232.03L267.34,231.27L268.66,230.3L269.97,230.79L271.29,230.32L272.61,229.16L273.92,229.85L279.19,232.74L280.5,233.93L283.13,236.9L284.45,236.78L287.08,238.02L288.4,239.69L289.71,242L291.03,242.64L293.66,242.33L294.98,241.56L297.61,239.9L298.92,238.42L301.56,235.46L302.87,233.32L306.82,225.38L308.14,224.3L313.4,215.89L314.71,215.44L317.35,212.33L318.66,210.04L319.98,209.35L321.29,206.07L325.24,199.23L326.56,199.72L327.87,200.89L329.19,200.49L331.82,198.32L333.14,194.45L334.45,190.32L335.77,189.67L337.08,187.71L338.4,188.54L339.72,187.41L341.03,187.49L344.98,188.47L346.3,186.67L348.93,183.89L350.24,180.89L352.88,173.63L354.19,177.8L356.82,183.08L358.14,185.89L359.45,187.69L360.77,188.19L363.4,191.29L364.72,191.51L367.35,193.84L368.67,194.95L369.98,196.37L371.3,200.7L372.61,205.55L373.93,206.79L375.25,207.17L376.56,209.22L383.14,220.32L384.46,220.54L387.09,216.67L388.4,214.1L389.72,212.91L391.04,210.67L396.3,204.85L397.62,204.87L404.19,207.79L405.51,207.46L409.46,209.72L410.77,209.24L413.41,209.52L414.72,209.01L417.35,209.28L418.67,208.84L419.99,211.07L421.3,210.9L422.62,204.99L423.93,186.14L427.88,169.21L429.2,167.45L434.46,160.72L435.78,149.76L437.09,144.7L438.41,143.7L443.67,134.38L444.99,133.25L447.62,136.7L448.93,141.09L451.57,138.48L452.88,139.04L455.51,141.4L456.83,142.88L458.15,138.47L459.46,129.82L462.09,92.75L463.41,82.72L466.04,77.59L467.36,77.59L468.67,82.77L469.99,92.61L471.3,98.95L472.62,96.77L473.94,96.32L475.25,97.1L479.2,114.67L480.52,115.35L483.15,127.59L484.46,128.72L487.1,128.9L488.41,127.64L489.73,128.21L491.04,129.65L493.67,127.17\" style=\"vector-effect: non-scaling-stroke; fill: none; stroke: rgb(239, 85, 59); stroke-opacity: 1; stroke-width: 2px; opacity: 1;\"/></g><g class=\"points\"/><g class=\"text\"/></g><g class=\"trace scatter tracee0e5f5\" style=\"stroke-miterlimit: 2; opacity: 1;\"><g class=\"fills\"/><g class=\"errorbars\"/><g class=\"lines\"><path class=\"js-line\" d=\"M13.38,296.37L17.33,296.72L18.64,296.75L31.8,297.17L33.12,296.68L39.7,294.54L41.01,294.5L48.91,292.19L50.22,291.8L54.17,290.41L55.49,289.36L59.43,287.52L60.75,287.01L63.38,286.44L64.7,285.87L71.28,283.66L72.59,282.55L75.22,280.3L76.54,278.8L79.17,275.62L80.49,272.13L84.44,262.83L85.75,261.01L93.65,248.82L94.96,248.03L98.91,247.85L100.23,247.31L102.86,246.57L104.17,245.37L105.49,244L106.81,240.51L121.28,216.99L122.6,215.59L125.23,203.45L126.54,196.93L129.18,187.37L130.49,183.4L133.12,177.34L134.44,175.76L135.75,174.54L137.07,172.07L144.97,156.31L146.28,153.39L148.91,149.45L150.23,146.02L152.86,140.56L154.18,137.67L158.12,123.22L159.44,119.9L164.7,104.88L166.02,102.02L168.65,100.88L169.97,101.21L171.28,102.09L172.6,104.62L173.92,105.85L175.23,109.04L176.55,112.14L177.86,112.67L179.18,112.35L180.49,112.82L181.81,113.39L183.13,112.93L187.07,111.33L188.39,112.25L194.97,102.5L196.29,102.14L197.6,100.76L198.92,102.37L204.18,108.08L205.5,110.69L206.81,112.52L208.13,118.85L210.76,128.71L212.08,134.9L214.71,146.85L216.02,150.96L218.66,155.01L219.97,158.38L223.92,168.06L225.23,170.47L231.81,178.28L233.13,180.56L241.03,194.06L242.34,195.77L244.97,198.07L246.29,199.44L251.55,207.84L252.87,210.84L260.76,220.69L262.08,221.37L264.71,222.27L266.03,222.9L279.19,227.67L280.5,228.48L293.66,236.28L294.98,236.44L298.92,236.22L300.24,235.96L302.87,234.6L304.19,233.36L321.29,217.21L322.61,215.54L325.24,212.03L326.56,211.26L329.19,209.96L330.51,208.8L331.82,207.75L333.14,205.61L335.77,202.06L337.08,200.42L344.98,196.05L346.3,194.82L348.93,192.58L350.24,190.83L352.88,186.5L354.19,187.1L358.14,188.59L359.45,189.05L362.09,189.9L363.4,190.26L366.03,190.78L367.35,191.47L369.98,192.8L371.3,194.66L373.93,198.01L375.25,198.8L384.46,209.08L385.77,209.35L391.04,208.24L392.35,207.81L398.93,206.39L400.25,206.64L418.67,208.35L419.99,209.22L421.3,209.29L422.62,207.22L425.25,196.84L426.56,193.41L429.2,187.92L430.51,185.79L434.46,179.57L435.78,174.12L438.41,168.16L439.72,165.5L443.67,157.53L444.99,155.39L447.62,153.6L448.93,153.97L452.88,150.36L454.2,150.19L456.83,149.64L458.15,147.5L459.46,143.63L460.78,134.18L463.41,120.63L464.73,116.99L467.36,110.58L468.67,110.05L471.3,112.61L472.62,110.79L475.25,108.89L476.57,110.41L479.2,113.91L480.52,114.22L483.15,119.23L484.46,120.27L487.1,121.56L488.41,121.64L492.36,123.37L493.67,123.21\" style=\"vector-effect: non-scaling-stroke; fill: none; stroke: rgb(0, 204, 150); stroke-opacity: 1; stroke-width: 2px; opacity: 1;\"/></g><g class=\"points\"/><g class=\"text\"/></g><g class=\"trace scatter trace30e012\" style=\"stroke-miterlimit: 2; opacity: 1;\"><g class=\"fills\"/><g class=\"errorbars\"/><g class=\"lines\"/><g class=\"points\"><path class=\"point\" transform=\"translate(31.8,297.75)\" d=\"M-5.77,2.5H5.77L0,-5Z\" style=\"opacity: 1; stroke-width: 2px; fill: rgb(0, 0, 0); fill-opacity: 1; stroke: rgb(0, 0, 0); stroke-opacity: 1;\"/><path class=\"point\" transform=\"translate(187.07,115.64)\" d=\"M-5.77,2.5H5.77L0,-5Z\" style=\"opacity: 1; stroke-width: 2px; fill: rgb(0, 0, 0); fill-opacity: 1; stroke: rgb(0, 0, 0); stroke-opacity: 1;\"/><path class=\"point\" transform=\"translate(189.71,109.19)\" d=\"M-5.77,2.5H5.77L0,-5Z\" style=\"opacity: 1; stroke-width: 2px; fill: rgb(0, 0, 0); fill-opacity: 1; stroke: rgb(0, 0, 0); stroke-opacity: 1;\"/><path class=\"point\" transform=\"translate(302.87,234.95)\" d=\"M-5.77,2.5H5.77L0,-5Z\" style=\"opacity: 1; stroke-width: 2px; fill: rgb(0, 0, 0); fill-opacity: 1; stroke: rgb(0, 0, 0); stroke-opacity: 1;\"/><path class=\"point\" transform=\"translate(394.98,206.87)\" d=\"M-5.77,2.5H5.77L0,-5Z\" style=\"opacity: 1; stroke-width: 2px; fill: rgb(0, 0, 0); fill-opacity: 1; stroke: rgb(0, 0, 0); stroke-opacity: 1;\"/><path class=\"point\" transform=\"translate(422.62,207.28)\" d=\"M-5.77,2.5H5.77L0,-5Z\" style=\"opacity: 1; stroke-width: 2px; fill: rgb(0, 0, 0); fill-opacity: 1; stroke: rgb(0, 0, 0); stroke-opacity: 1;\"/></g><g class=\"text\"/></g><g class=\"trace scatter tracec4ca7e\" style=\"stroke-miterlimit: 2; opacity: 1;\"><g class=\"fills\"/><g class=\"errorbars\"/><g class=\"lines\"/><g class=\"points\"><path class=\"point\" transform=\"translate(175.23,104.25)\" d=\"M-5.77,-2.5H5.77L0,5Z\" style=\"opacity: 1; stroke-width: 2px; fill: rgb(231, 76, 60); fill-opacity: 1; stroke: rgb(231, 76, 60); stroke-opacity: 1;\"/><path class=\"point\" transform=\"translate(188.39,112.62)\" d=\"M-5.77,-2.5H5.77L0,5Z\" style=\"opacity: 1; stroke-width: 2px; fill: rgb(231, 76, 60); fill-opacity: 1; stroke: rgb(231, 76, 60); stroke-opacity: 1;\"/><path class=\"point\" transform=\"translate(202.86,100.88)\" d=\"M-5.77,-2.5H5.77L0,5Z\" style=\"opacity: 1; stroke-width: 2px; fill: rgb(231, 76, 60); fill-opacity: 1; stroke: rgb(231, 76, 60); stroke-opacity: 1;\"/><path class=\"point\" transform=\"translate(362.09,186.98)\" d=\"M-5.77,-2.5H5.77L0,5Z\" style=\"opacity: 1; stroke-width: 2px; fill: rgb(231, 76, 60); fill-opacity: 1; stroke: rgb(231, 76, 60); stroke-opacity: 1;\"/><path class=\"point\" transform=\"translate(402.88,204.96)\" d=\"M-5.77,-2.5H5.77L0,5Z\" style=\"opacity: 1; stroke-width: 2px; fill: rgb(231, 76, 60); fill-opacity: 1; stroke: rgb(231, 76, 60); stroke-opacity: 1;\"/><path class=\"point\" transform=\"translate(479.2,115.81)\" d=\"M-5.77,-2.5H5.77L0,5Z\" style=\"opacity: 1; stroke-width: 2px; fill: rgb(231, 76, 60); fill-opacity: 1; stroke: rgb(231, 76, 60); stroke-opacity: 1;\"/></g><g class=\"text\"/></g></g></g><g class=\"overplot\"/><path class=\"xlines-above crisp\" d=\"M0,0\" style=\"fill: none;\"/><path class=\"ylines-above crisp\" d=\"M0,0\" style=\"fill: none;\"/><g class=\"overlines-above\"/><g class=\"xaxislayer-above\"><g class=\"xtick\"><text text-anchor=\"middle\" x=\"0\" y=\"433\" transform=\"translate(106.53999999999999,0)\" style=\"font-family: 'Open Sans', verdana, arial, sans-serif; font-size: 12px; fill: rgb(42, 63, 95); fill-opacity: 1; white-space: pre; opacity: 1;\">Jan 2021</text></g><g class=\"xtick\"><text text-anchor=\"middle\" x=\"0\" y=\"433\" style=\"font-family: 'Open Sans', verdana, arial, sans-serif; font-size: 12px; fill: rgb(42, 63, 95); fill-opacity: 1; white-space: pre; opacity: 1;\" transform=\"translate(184.17000000000002,0)\">Mar 2021</text></g><g class=\"xtick\"><text text-anchor=\"middle\" x=\"0\" y=\"433\" style=\"font-family: 'Open Sans', verdana, arial, sans-serif; font-size: 12px; fill: rgb(42, 63, 95); fill-opacity: 1; white-space: pre; opacity: 1;\" transform=\"translate(264.44,0)\">May 2021</text></g><g class=\"xtick\"><text text-anchor=\"middle\" x=\"0\" y=\"433\" style=\"font-family: 'Open Sans', verdana, arial, sans-serif; font-size: 12px; fill: rgb(42, 63, 95); fill-opacity: 1; white-space: pre; opacity: 1;\" transform=\"translate(344.71,0)\">Jul 2021</text></g><g class=\"xtick\"><text text-anchor=\"middle\" x=\"0\" y=\"433\" style=\"font-family: 'Open Sans', verdana, arial, sans-serif; font-size: 12px; fill: rgb(42, 63, 95); fill-opacity: 1; white-space: pre; opacity: 1;\" transform=\"translate(426.3,0)\">Sep 2021</text></g><g class=\"xtick\"><text text-anchor=\"middle\" x=\"0\" y=\"433\" style=\"font-family: 'Open Sans', verdana, arial, sans-serif; font-size: 12px; fill: rgb(42, 63, 95); fill-opacity: 1; white-space: pre; opacity: 1;\" transform=\"translate(506.56,0)\">Nov 2021</text></g><g class=\"xtick\"><text text-anchor=\"middle\" x=\"0\" y=\"433\" style=\"font-family: 'Open Sans', verdana, arial, sans-serif; font-size: 12px; fill: rgb(42, 63, 95); fill-opacity: 1; white-space: pre; opacity: 1;\" transform=\"translate(586.8299999999999,0)\">Jan 2022</text></g></g><g class=\"yaxislayer-above\"><g class=\"ytick\"><text text-anchor=\"end\" x=\"79\" y=\"4.199999999999999\" transform=\"translate(0,399.63)\" style=\"font-family: 'Open Sans', verdana, arial, sans-serif; font-size: 12px; fill: rgb(42, 63, 95); fill-opacity: 1; white-space: pre; opacity: 1;\">0.2</text></g><g class=\"ytick\"><text text-anchor=\"end\" x=\"79\" y=\"4.199999999999999\" style=\"font-family: 'Open Sans', verdana, arial, sans-serif; font-size: 12px; fill: rgb(42, 63, 95); fill-opacity: 1; white-space: pre; opacity: 1;\" transform=\"translate(0,363.41)\">0.4</text></g><g class=\"ytick\"><text text-anchor=\"end\" x=\"79\" y=\"4.199999999999999\" style=\"font-family: 'Open Sans', verdana, arial, sans-serif; font-size: 12px; fill: rgb(42, 63, 95); fill-opacity: 1; white-space: pre; opacity: 1;\" transform=\"translate(0,327.2)\">0.6</text></g><g class=\"ytick\"><text text-anchor=\"end\" x=\"79\" y=\"4.199999999999999\" style=\"font-family: 'Open Sans', verdana, arial, sans-serif; font-size: 12px; fill: rgb(42, 63, 95); fill-opacity: 1; white-space: pre; opacity: 1;\" transform=\"translate(0,290.98)\">0.8</text></g><g class=\"ytick\"><text text-anchor=\"end\" x=\"79\" y=\"4.199999999999999\" style=\"font-family: 'Open Sans', verdana, arial, sans-serif; font-size: 12px; fill: rgb(42, 63, 95); fill-opacity: 1; white-space: pre; opacity: 1;\" transform=\"translate(0,254.76)\">1</text></g><g class=\"ytick\"><text text-anchor=\"end\" x=\"79\" y=\"4.199999999999999\" style=\"font-family: 'Open Sans', verdana, arial, sans-serif; font-size: 12px; fill: rgb(42, 63, 95); fill-opacity: 1; white-space: pre; opacity: 1;\" transform=\"translate(0,218.55)\">1.2</text></g><g class=\"ytick\"><text text-anchor=\"end\" x=\"79\" y=\"4.199999999999999\" style=\"font-family: 'Open Sans', verdana, arial, sans-serif; font-size: 12px; fill: rgb(42, 63, 95); fill-opacity: 1; white-space: pre; opacity: 1;\" transform=\"translate(0,182.32999999999998)\">1.4</text></g><g class=\"ytick\"><text text-anchor=\"end\" x=\"79\" y=\"4.199999999999999\" style=\"font-family: 'Open Sans', verdana, arial, sans-serif; font-size: 12px; fill: rgb(42, 63, 95); fill-opacity: 1; white-space: pre; opacity: 1;\" transform=\"translate(0,146.11)\">1.6</text></g><g class=\"ytick\"><text text-anchor=\"end\" x=\"79\" y=\"4.199999999999999\" style=\"font-family: 'Open Sans', verdana, arial, sans-serif; font-size: 12px; fill: rgb(42, 63, 95); fill-opacity: 1; white-space: pre; opacity: 1;\" transform=\"translate(0,109.9)\">1.8</text></g></g><g class=\"overaxes-above\"/></g></g><g class=\"polarlayer\"/><g class=\"smithlayer\"/><g class=\"ternarylayer\"/><g class=\"geolayer\"/><g class=\"funnelarealayer\"/><g class=\"pielayer\"/><g class=\"iciclelayer\"/><g class=\"treemaplayer\"/><g class=\"sunburstlayer\"/><g class=\"glimages\"/><defs id=\"topdefs-8a07d6\"><g class=\"clips\"/><clipPath id=\"legend8a07d6\"><rect width=\"87\" height=\"86\" x=\"0\" y=\"0\"/></clipPath></defs><g class=\"layer-above\"><g class=\"imagelayer\"/><g class=\"shapelayer\"/></g><g class=\"infolayer\"><g class=\"legend\" pointer-events=\"all\" transform=\"translate(601.22,100)\"><rect class=\"bg\" shape-rendering=\"crispEdges\" width=\"87\" height=\"86\" x=\"0\" y=\"0\" style=\"stroke: rgb(68, 68, 68); stroke-opacity: 1; fill: rgb(255, 255, 255); fill-opacity: 1; stroke-width: 0px;\"/><g class=\"scrollbox\" transform=\"\" clip-path=\"url(#legend8a07d6)\"><g class=\"groups\"><g class=\"traces\" transform=\"translate(0,14.5)\" style=\"opacity: 1;\"><text class=\"legendtext\" text-anchor=\"start\" x=\"40\" y=\"4.680000000000001\" style=\"font-family: 'Open Sans', verdana, arial, sans-serif; font-size: 12px; fill: rgb(42, 63, 95); fill-opacity: 1; white-space: pre;\">EMA9</text><g class=\"layers\" style=\"opacity: 1;\"><g class=\"legendfill\"/><g class=\"legendlines\"><path class=\"js-line\" d=\"M5,0h30\" style=\"fill: none; stroke: rgb(239, 85, 59); stroke-opacity: 1; stroke-width: 2px;\"/></g><g class=\"legendsymbols\"><g class=\"legendpoints\"/></g></g><rect class=\"legendtoggle\" x=\"0\" y=\"-9.5\" width=\"81.171875\" height=\"19\" style=\"fill: rgb(0, 0, 0); fill-opacity: 0;\"/></g><g class=\"traces\" transform=\"translate(0,33.5)\" style=\"opacity: 1;\"><text class=\"legendtext\" text-anchor=\"start\" x=\"40\" y=\"4.680000000000001\" style=\"font-family: 'Open Sans', verdana, arial, sans-serif; font-size: 12px; fill: rgb(42, 63, 95); fill-opacity: 1; white-space: pre;\">EMA26</text><g class=\"layers\" style=\"opacity: 1;\"><g class=\"legendfill\"/><g class=\"legendlines\"><path class=\"js-line\" d=\"M5,0h30\" style=\"fill: none; stroke: rgb(0, 204, 150); stroke-opacity: 1; stroke-width: 2px;\"/></g><g class=\"legendsymbols\"><g class=\"legendpoints\"/></g></g><rect class=\"legendtoggle\" x=\"0\" y=\"-9.5\" width=\"81.171875\" height=\"19\" style=\"fill: rgb(0, 0, 0); fill-opacity: 0;\"/></g><g class=\"traces\" transform=\"translate(0,52.5)\" style=\"opacity: 1;\"><text class=\"legendtext\" text-anchor=\"start\" x=\"40\" y=\"4.680000000000001\" style=\"font-family: 'Open Sans', verdana, arial, sans-serif; font-size: 12px; fill: rgb(42, 63, 95); fill-opacity: 1; white-space: pre;\">Buy</text><g class=\"layers\" style=\"opacity: 1;\"><g class=\"legendfill\"/><g class=\"legendlines\"/><g class=\"legendsymbols\"><g class=\"legendpoints\"><path class=\"scatterpts\" transform=\"translate(20,0)\" d=\"M-5.77,2.5H5.77L0,-5Z\" style=\"opacity: 1; stroke-width: 2px; fill: rgb(0, 0, 0); fill-opacity: 1; stroke: rgb(0, 0, 0); stroke-opacity: 1;\"/></g></g></g><rect class=\"legendtoggle\" x=\"0\" y=\"-9.5\" width=\"81.171875\" height=\"19\" style=\"fill: rgb(0, 0, 0); fill-opacity: 0;\"/></g><g class=\"traces\" transform=\"translate(0,71.5)\" style=\"opacity: 1;\"><text class=\"legendtext\" text-anchor=\"start\" x=\"40\" y=\"4.680000000000001\" style=\"font-family: 'Open Sans', verdana, arial, sans-serif; font-size: 12px; fill: rgb(42, 63, 95); fill-opacity: 1; white-space: pre;\">Sell</text><g class=\"layers\" style=\"opacity: 1;\"><g class=\"legendfill\"/><g class=\"legendlines\"/><g class=\"legendsymbols\"><g class=\"legendpoints\"><path class=\"scatterpts\" transform=\"translate(20,0)\" d=\"M-5.77,-2.5H5.77L0,5Z\" style=\"opacity: 1; stroke-width: 2px; fill: rgb(231, 76, 60); fill-opacity: 1; stroke: rgb(231, 76, 60); stroke-opacity: 1;\"/></g></g></g><rect class=\"legendtoggle\" x=\"0\" y=\"-9.5\" width=\"81.171875\" height=\"19\" style=\"fill: rgb(0, 0, 0); fill-opacity: 0;\"/></g></g></g><rect class=\"scrollbar\" rx=\"20\" ry=\"3\" width=\"0\" height=\"0\" x=\"0\" y=\"0\" style=\"fill: rgb(128, 139, 164); fill-opacity: 1;\"/></g><g class=\"g-gtitle\"><text class=\"gtitle\" x=\"35\" y=\"50\" text-anchor=\"start\" dy=\"0em\" style=\"font-family: 'Open Sans', verdana, arial, sans-serif; font-size: 17px; fill: rgb(42, 63, 95); opacity: 1; font-weight: normal; white-space: pre;\">EMA Strategy</text></g><g class=\"g-xtitle\"><text class=\"xtitle\" x=\"335.5\" y=\"460.3\" text-anchor=\"middle\" style=\"font-family: 'Open Sans', verdana, arial, sans-serif; font-size: 14px; fill: rgb(42, 63, 95); opacity: 1; font-weight: normal; white-space: pre;\">Date</text></g><g class=\"g-ytitle\"><text class=\"ytitle\" transform=\"rotate(-90,34.575,260)\" x=\"34.575\" y=\"260\" text-anchor=\"middle\" style=\"font-family: 'Open Sans', verdana, arial, sans-serif; font-size: 14px; fill: rgb(42, 63, 95); opacity: 1; font-weight: normal; white-space: pre;\">Close</text></g></g></svg>"
      ]
     },
     "metadata": {},
     "output_type": "display_data"
    }
   ],
   "source": [
    "fig = px.line(df, y='Close', title='EMA Strategy', labels={'index': 'Date'})\n",
    "fig.add_scatter(x=df.index, y=df[small_ema], mode='lines', name=small_ema)\n",
    "fig.add_scatter(x=df.index, y=df[big_ema], mode='lines', name=big_ema)\n",
    "\n",
    "buy_signal = df[df['EMA_Position'] == 1]\n",
    "sell_signal = df[df['EMA_Position'] == -1]\n",
    "\n",
    "fig.add_trace(go.Scatter(mode='markers', x=buy_signal.index, y=buy_signal[small_sma] ,marker_symbol='triangle-up',\n",
    "                        marker_line_color='#000000', marker_color='#000000',\n",
    "                        marker_line_width=2, marker_size=10, name='Buy'))\n",
    "\n",
    "fig.add_trace(go.Scatter(mode='markers', x=sell_signal.index, y=sell_signal[small_sma], marker_symbol='triangle-down',\n",
    "                        marker_line_color='#E74C3C', marker_color='#E74C3C',\n",
    "                        marker_line_width=2, marker_size=10, name='Sell'))\n",
    "\n",
    "fig.show('svg')"
   ]
  },
  {
   "cell_type": "code",
   "execution_count": 18,
   "metadata": {
    "ExecuteTime": {
     "end_time": "2021-12-23T17:04:00.457413Z",
     "start_time": "2021-12-23T17:04:00.377714Z"
    }
   },
   "outputs": [
    {
     "name": "stdout",
     "output_type": "stream",
     "text": [
      "+------------+----------+----------+----------+----------------+\n",
      "| Date       |    Close |     EMA9 |    EMA26 | EMA_Position   |\n",
      "|------------+----------+----------+----------+----------------|\n",
      "| 2021-01-05 | 0.231887 | 0.214568 | 0.213572 | Buy            |\n",
      "| 2021-04-24 | 1.03205  | 1.23017  | 1.25247  | Sell           |\n",
      "| 2021-05-03 | 1.29228  | 1.24289  | 1.23983  | Buy            |\n",
      "| 2021-05-04 | 1.17185  | 1.22868  | 1.2348   | Sell           |\n",
      "| 2021-05-05 | 1.36623  | 1.25619  | 1.24453  | Buy            |\n",
      "| 2021-05-15 | 1.13846  | 1.24974  | 1.26718  | Sell           |\n",
      "| 2021-07-30 | 0.613559 | 0.566179 | 0.559107 | Buy            |\n",
      "| 2021-09-13 | 0.752936 | 0.802916 | 0.805935 | Sell           |\n",
      "| 2021-10-08 | 0.747423 | 0.714558 | 0.711628 | Buy            |\n",
      "| 2021-10-14 | 0.702637 | 0.710963 | 0.712154 | Sell           |\n",
      "| 2021-10-29 | 0.853367 | 0.722642 | 0.710312 | Buy            |\n",
      "| 2021-12-11 | 1.14708  | 1.22142  | 1.22561  | Sell           |\n",
      "+------------+----------+----------+----------+----------------+\n"
     ]
    }
   ],
   "source": [
    "dft = df[(df['EMA_Position'] == 1) | (df['EMA_Position'] == -1)]\n",
    "dft['EMA_Position'] = dft['EMA_Position'].apply(lambda x: 'Buy' if x == 1 else 'Sell')\n",
    "dft = dft.drop([small_sma, big_sma, 'SMA_Signal', 'SMA_Position', 'EMA_Signal'], axis=1)\n",
    "print(tabulate(dft, headers = 'keys', tablefmt = 'psql'))"
   ]
  },
  {
   "cell_type": "code",
   "execution_count": null,
   "metadata": {},
   "outputs": [],
   "source": []
  }
 ],
 "metadata": {
  "kernelspec": {
   "display_name": "Python 3.7.3 64-bit",
   "language": "python",
   "name": "python37364bit4b0c35d2e87e4ab4b32577cc3e1c5444"
  },
  "language_info": {
   "codemirror_mode": {
    "name": "ipython",
    "version": 3
   },
   "file_extension": ".py",
   "mimetype": "text/x-python",
   "name": "python",
   "nbconvert_exporter": "python",
   "pygments_lexer": "ipython3",
   "version": "3.7.3"
  }
 },
 "nbformat": 4,
 "nbformat_minor": 4
}
